{
 "cells": [
  {
   "cell_type": "markdown",
   "metadata": {},
   "source": [
    "# Introduction\n",
    "\n",
    "The prices of HDB flats in Singapore is of interest to most Singaporeans as it is the most affordable and accessible form of housing for young adults, who wish to move out of their parent's. There are 2 ways to go about obtaining one: ballot for a new flat from HDB (opportunity to buy at a subsidised rate!), or get a resale flat on the open market (some subsidies, but ho-hum). There are no regulations to fix prices (ceiling or floor) for resale flats, so transaction prices are entirely up to buyers and sellers. They may value a flat based on objective characteristics (area, floor level) or subjective features (well-maintained, good location). Having been in a position shopping for a flat, the question of 'Is this a fair price to pay for the flat?' came up repeatedly and I resorted to checking the recent resale transactions around the area (a manual version of k-nearest neighbours, if you will) to decide the fair value of a flat that I am interested in. \n",
    "\n",
    "The Singapore government launched a portal, Data.gov.sg, in an effort to make public data more accessible and I found that HDB resale transactions going back all the way to 1990 are available in a csv format right [here]( https://data.gov.sg/dataset/resale-flat-prices?resource_id=83b2fc37-ce8c-4df4-968b-370fd818138b).\n",
    "\n",
    "In this workbook, I will detail my steps to creating a linear regression model using the public information available in these csv files."
   ]
  },
  {
   "cell_type": "markdown",
   "metadata": {},
   "source": [
    "# Getting files and combining them\n",
    "\n",
    "Obviously the first task will be to get the files by downloading it off the site, data.gov.sg does provide an API for queries but since we just after the csv files available at the click of a button, why bother hacking through all the API documentations when you can do it the easy way? So download all of them in 1 zip file and unzip it!\n",
    "\n",
    "Now you got them, let's see what we're working with here!"
   ]
  },
  {
   "cell_type": "code",
   "execution_count": 1,
   "metadata": {},
   "outputs": [],
   "source": [
    "# Getting all the necessary packages\n",
    "import numpy as np\n",
    "import pandas as pd"
   ]
  },
  {
   "cell_type": "code",
   "execution_count": 2,
   "metadata": {},
   "outputs": [
    {
     "data": {
      "text/html": [
       "<div>\n",
       "<style scoped>\n",
       "    .dataframe tbody tr th:only-of-type {\n",
       "        vertical-align: middle;\n",
       "    }\n",
       "\n",
       "    .dataframe tbody tr th {\n",
       "        vertical-align: top;\n",
       "    }\n",
       "\n",
       "    .dataframe thead th {\n",
       "        text-align: right;\n",
       "    }\n",
       "</style>\n",
       "<table border=\"1\" class=\"dataframe\">\n",
       "  <thead>\n",
       "    <tr style=\"text-align: right;\">\n",
       "      <th></th>\n",
       "      <th>month</th>\n",
       "      <th>town</th>\n",
       "      <th>flat_type</th>\n",
       "      <th>block</th>\n",
       "      <th>street_name</th>\n",
       "      <th>storey_range</th>\n",
       "      <th>floor_area_sqm</th>\n",
       "      <th>flat_model</th>\n",
       "      <th>lease_commence_date</th>\n",
       "      <th>resale_price</th>\n",
       "    </tr>\n",
       "  </thead>\n",
       "  <tbody>\n",
       "    <tr>\n",
       "      <th>0</th>\n",
       "      <td>1990-01</td>\n",
       "      <td>ANG MO KIO</td>\n",
       "      <td>1 ROOM</td>\n",
       "      <td>309</td>\n",
       "      <td>ANG MO KIO AVE 1</td>\n",
       "      <td>10 TO 12</td>\n",
       "      <td>31.0</td>\n",
       "      <td>IMPROVED</td>\n",
       "      <td>1977</td>\n",
       "      <td>9000</td>\n",
       "    </tr>\n",
       "    <tr>\n",
       "      <th>1</th>\n",
       "      <td>1990-01</td>\n",
       "      <td>ANG MO KIO</td>\n",
       "      <td>1 ROOM</td>\n",
       "      <td>309</td>\n",
       "      <td>ANG MO KIO AVE 1</td>\n",
       "      <td>04 TO 06</td>\n",
       "      <td>31.0</td>\n",
       "      <td>IMPROVED</td>\n",
       "      <td>1977</td>\n",
       "      <td>6000</td>\n",
       "    </tr>\n",
       "    <tr>\n",
       "      <th>2</th>\n",
       "      <td>1990-01</td>\n",
       "      <td>ANG MO KIO</td>\n",
       "      <td>1 ROOM</td>\n",
       "      <td>309</td>\n",
       "      <td>ANG MO KIO AVE 1</td>\n",
       "      <td>10 TO 12</td>\n",
       "      <td>31.0</td>\n",
       "      <td>IMPROVED</td>\n",
       "      <td>1977</td>\n",
       "      <td>8000</td>\n",
       "    </tr>\n",
       "    <tr>\n",
       "      <th>3</th>\n",
       "      <td>1990-01</td>\n",
       "      <td>ANG MO KIO</td>\n",
       "      <td>1 ROOM</td>\n",
       "      <td>309</td>\n",
       "      <td>ANG MO KIO AVE 1</td>\n",
       "      <td>07 TO 09</td>\n",
       "      <td>31.0</td>\n",
       "      <td>IMPROVED</td>\n",
       "      <td>1977</td>\n",
       "      <td>6000</td>\n",
       "    </tr>\n",
       "    <tr>\n",
       "      <th>4</th>\n",
       "      <td>1990-01</td>\n",
       "      <td>ANG MO KIO</td>\n",
       "      <td>3 ROOM</td>\n",
       "      <td>216</td>\n",
       "      <td>ANG MO KIO AVE 1</td>\n",
       "      <td>04 TO 06</td>\n",
       "      <td>73.0</td>\n",
       "      <td>NEW GENERATION</td>\n",
       "      <td>1976</td>\n",
       "      <td>47200</td>\n",
       "    </tr>\n",
       "  </tbody>\n",
       "</table>\n",
       "</div>"
      ],
      "text/plain": [
       "     month        town flat_type block       street_name storey_range  \\\n",
       "0  1990-01  ANG MO KIO    1 ROOM   309  ANG MO KIO AVE 1     10 TO 12   \n",
       "1  1990-01  ANG MO KIO    1 ROOM   309  ANG MO KIO AVE 1     04 TO 06   \n",
       "2  1990-01  ANG MO KIO    1 ROOM   309  ANG MO KIO AVE 1     10 TO 12   \n",
       "3  1990-01  ANG MO KIO    1 ROOM   309  ANG MO KIO AVE 1     07 TO 09   \n",
       "4  1990-01  ANG MO KIO    3 ROOM   216  ANG MO KIO AVE 1     04 TO 06   \n",
       "\n",
       "   floor_area_sqm      flat_model  lease_commence_date  resale_price  \n",
       "0            31.0        IMPROVED                 1977          9000  \n",
       "1            31.0        IMPROVED                 1977          6000  \n",
       "2            31.0        IMPROVED                 1977          8000  \n",
       "3            31.0        IMPROVED                 1977          6000  \n",
       "4            73.0  NEW GENERATION                 1976         47200  "
      ]
     },
     "execution_count": 2,
     "metadata": {},
     "output_type": "execute_result"
    }
   ],
   "source": [
    "df1990 = pd.read_csv('resale_data/resale-flat-prices-based-on-approval-date-1990-1999.csv')\n",
    "df1990.head()"
   ]
  },
  {
   "cell_type": "code",
   "execution_count": 3,
   "metadata": {},
   "outputs": [
    {
     "data": {
      "text/plain": [
       "month                  0\n",
       "town                   0\n",
       "flat_type              0\n",
       "block                  0\n",
       "street_name            0\n",
       "storey_range           0\n",
       "floor_area_sqm         0\n",
       "flat_model             0\n",
       "lease_commence_date    0\n",
       "resale_price           0\n",
       "dtype: int64"
      ]
     },
     "execution_count": 3,
     "metadata": {},
     "output_type": "execute_result"
    }
   ],
   "source": [
    "df1990.isna().sum()"
   ]
  },
  {
   "cell_type": "markdown",
   "metadata": {},
   "source": [
    "No missing data, very nice! Ok now you've done it for 1, and the data looks good and clean, let's go do it for the other 4!"
   ]
  },
  {
   "cell_type": "code",
   "execution_count": 4,
   "metadata": {},
   "outputs": [
    {
     "data": {
      "text/html": [
       "<div>\n",
       "<style scoped>\n",
       "    .dataframe tbody tr th:only-of-type {\n",
       "        vertical-align: middle;\n",
       "    }\n",
       "\n",
       "    .dataframe tbody tr th {\n",
       "        vertical-align: top;\n",
       "    }\n",
       "\n",
       "    .dataframe thead th {\n",
       "        text-align: right;\n",
       "    }\n",
       "</style>\n",
       "<table border=\"1\" class=\"dataframe\">\n",
       "  <thead>\n",
       "    <tr style=\"text-align: right;\">\n",
       "      <th></th>\n",
       "      <th>month</th>\n",
       "      <th>town</th>\n",
       "      <th>flat_type</th>\n",
       "      <th>block</th>\n",
       "      <th>street_name</th>\n",
       "      <th>storey_range</th>\n",
       "      <th>floor_area_sqm</th>\n",
       "      <th>flat_model</th>\n",
       "      <th>lease_commence_date</th>\n",
       "      <th>remaining_lease</th>\n",
       "      <th>resale_price</th>\n",
       "    </tr>\n",
       "  </thead>\n",
       "  <tbody>\n",
       "    <tr>\n",
       "      <th>0</th>\n",
       "      <td>2017-01</td>\n",
       "      <td>ANG MO KIO</td>\n",
       "      <td>2 ROOM</td>\n",
       "      <td>406</td>\n",
       "      <td>ANG MO KIO AVE 10</td>\n",
       "      <td>10 TO 12</td>\n",
       "      <td>44.0</td>\n",
       "      <td>Improved</td>\n",
       "      <td>1979</td>\n",
       "      <td>61 years 04 months</td>\n",
       "      <td>232000.0</td>\n",
       "    </tr>\n",
       "    <tr>\n",
       "      <th>1</th>\n",
       "      <td>2017-01</td>\n",
       "      <td>ANG MO KIO</td>\n",
       "      <td>3 ROOM</td>\n",
       "      <td>108</td>\n",
       "      <td>ANG MO KIO AVE 4</td>\n",
       "      <td>01 TO 03</td>\n",
       "      <td>67.0</td>\n",
       "      <td>New Generation</td>\n",
       "      <td>1978</td>\n",
       "      <td>60 years 07 months</td>\n",
       "      <td>250000.0</td>\n",
       "    </tr>\n",
       "    <tr>\n",
       "      <th>2</th>\n",
       "      <td>2017-01</td>\n",
       "      <td>ANG MO KIO</td>\n",
       "      <td>3 ROOM</td>\n",
       "      <td>602</td>\n",
       "      <td>ANG MO KIO AVE 5</td>\n",
       "      <td>01 TO 03</td>\n",
       "      <td>67.0</td>\n",
       "      <td>New Generation</td>\n",
       "      <td>1980</td>\n",
       "      <td>62 years 05 months</td>\n",
       "      <td>262000.0</td>\n",
       "    </tr>\n",
       "    <tr>\n",
       "      <th>3</th>\n",
       "      <td>2017-01</td>\n",
       "      <td>ANG MO KIO</td>\n",
       "      <td>3 ROOM</td>\n",
       "      <td>465</td>\n",
       "      <td>ANG MO KIO AVE 10</td>\n",
       "      <td>04 TO 06</td>\n",
       "      <td>68.0</td>\n",
       "      <td>New Generation</td>\n",
       "      <td>1980</td>\n",
       "      <td>62 years 01 month</td>\n",
       "      <td>265000.0</td>\n",
       "    </tr>\n",
       "    <tr>\n",
       "      <th>4</th>\n",
       "      <td>2017-01</td>\n",
       "      <td>ANG MO KIO</td>\n",
       "      <td>3 ROOM</td>\n",
       "      <td>601</td>\n",
       "      <td>ANG MO KIO AVE 5</td>\n",
       "      <td>01 TO 03</td>\n",
       "      <td>67.0</td>\n",
       "      <td>New Generation</td>\n",
       "      <td>1980</td>\n",
       "      <td>62 years 05 months</td>\n",
       "      <td>265000.0</td>\n",
       "    </tr>\n",
       "  </tbody>\n",
       "</table>\n",
       "</div>"
      ],
      "text/plain": [
       "     month        town flat_type block        street_name storey_range  \\\n",
       "0  2017-01  ANG MO KIO    2 ROOM   406  ANG MO KIO AVE 10     10 TO 12   \n",
       "1  2017-01  ANG MO KIO    3 ROOM   108   ANG MO KIO AVE 4     01 TO 03   \n",
       "2  2017-01  ANG MO KIO    3 ROOM   602   ANG MO KIO AVE 5     01 TO 03   \n",
       "3  2017-01  ANG MO KIO    3 ROOM   465  ANG MO KIO AVE 10     04 TO 06   \n",
       "4  2017-01  ANG MO KIO    3 ROOM   601   ANG MO KIO AVE 5     01 TO 03   \n",
       "\n",
       "   floor_area_sqm      flat_model  lease_commence_date     remaining_lease  \\\n",
       "0            44.0        Improved                 1979  61 years 04 months   \n",
       "1            67.0  New Generation                 1978  60 years 07 months   \n",
       "2            67.0  New Generation                 1980  62 years 05 months   \n",
       "3            68.0  New Generation                 1980   62 years 01 month   \n",
       "4            67.0  New Generation                 1980  62 years 05 months   \n",
       "\n",
       "   resale_price  \n",
       "0      232000.0  \n",
       "1      250000.0  \n",
       "2      262000.0  \n",
       "3      265000.0  \n",
       "4      265000.0  "
      ]
     },
     "execution_count": 4,
     "metadata": {},
     "output_type": "execute_result"
    }
   ],
   "source": [
    "df2000 = pd.read_csv('resale_data/resale-flat-prices-based-on-approval-date-2000-feb-2012.csv')\n",
    "df2012 = pd.read_csv('resale_data/resale-flat-prices-based-on-registration-date-from-mar-2012-to-dec-2014.csv')\n",
    "df2015 = pd.read_csv('resale_data/resale-flat-prices-based-on-registration-date-from-jan-2015-to-dec-2016.csv')\n",
    "df2017 = pd.read_csv('resale_data/resale-flat-prices-based-on-registration-date-from-jan-2017-onwards.csv')\n",
    "df2017.head()"
   ]
  },
  {
   "cell_type": "markdown",
   "metadata": {},
   "source": [
    "### Looks alright, but note that there's an extra column: 'remaining_lease'. Now this is going to be a problem potentially...\n",
    "\n",
    "solution: we'll add the remaining_lease column to the other years as we have the date the lease commences, assuming a 99 year lease (most HDBs are with some exceptional 60 year ones). \n",
    "``` remaining_lease = lease commence + 99 - year of transaction```\n",
    "\n",
    "Lets find out which years we need to impute the 'remaining_lease' columns"
   ]
  },
  {
   "cell_type": "code",
   "execution_count": 5,
   "metadata": {},
   "outputs": [
    {
     "name": "stdout",
     "output_type": "stream",
     "text": [
      "month                           1990-01\n",
      "town                         ANG MO KIO\n",
      "flat_type                        1 ROOM\n",
      "block                               309\n",
      "street_name            ANG MO KIO AVE 1\n",
      "storey_range                   04 TO 06\n",
      "floor_area_sqm                       31\n",
      "flat_model                     IMPROVED\n",
      "lease_commence_date                1977\n",
      "resale_price                       6000\n",
      "Name: 1, dtype: object\n",
      "month                           2000-01\n",
      "town                         ANG MO KIO\n",
      "flat_type                        3 ROOM\n",
      "block                               174\n",
      "street_name            ANG MO KIO AVE 4\n",
      "storey_range                   04 TO 06\n",
      "floor_area_sqm                       61\n",
      "flat_model                     Improved\n",
      "lease_commence_date                1986\n",
      "resale_price                     144000\n",
      "Name: 1, dtype: object\n",
      "month                           2012-03\n",
      "town                         ANG MO KIO\n",
      "flat_type                        2 ROOM\n",
      "block                               510\n",
      "street_name            ANG MO KIO AVE 8\n",
      "storey_range                   01 TO 05\n",
      "floor_area_sqm                       44\n",
      "flat_model                     Improved\n",
      "lease_commence_date                1980\n",
      "resale_price                     265000\n",
      "Name: 1, dtype: object\n"
     ]
    }
   ],
   "source": [
    "df_list = [df1990, df2000, df2012, df2015, df2017]\n",
    "for df in df_list:\n",
    "    if 'remaining_lease' not in df.columns:\n",
    "        print(df.iloc[1,:])"
   ]
  },
  {
   "cell_type": "markdown",
   "metadata": {},
   "source": [
    "Here we see, only df1990, 2000 and 2012 does not have the 'remaining_lease' column, let's create one for them. "
   ]
  },
  {
   "cell_type": "code",
   "execution_count": 6,
   "metadata": {},
   "outputs": [
    {
     "data": {
      "text/html": [
       "<div>\n",
       "<style scoped>\n",
       "    .dataframe tbody tr th:only-of-type {\n",
       "        vertical-align: middle;\n",
       "    }\n",
       "\n",
       "    .dataframe tbody tr th {\n",
       "        vertical-align: top;\n",
       "    }\n",
       "\n",
       "    .dataframe thead th {\n",
       "        text-align: right;\n",
       "    }\n",
       "</style>\n",
       "<table border=\"1\" class=\"dataframe\">\n",
       "  <thead>\n",
       "    <tr style=\"text-align: right;\">\n",
       "      <th></th>\n",
       "      <th>month</th>\n",
       "      <th>town</th>\n",
       "      <th>flat_type</th>\n",
       "      <th>block</th>\n",
       "      <th>street_name</th>\n",
       "      <th>storey_range</th>\n",
       "      <th>floor_area_sqm</th>\n",
       "      <th>flat_model</th>\n",
       "      <th>lease_commence_date</th>\n",
       "      <th>resale_price</th>\n",
       "      <th>year</th>\n",
       "      <th>remaining_lease</th>\n",
       "    </tr>\n",
       "  </thead>\n",
       "  <tbody>\n",
       "    <tr>\n",
       "      <th>0</th>\n",
       "      <td>2000-01</td>\n",
       "      <td>ANG MO KIO</td>\n",
       "      <td>3 ROOM</td>\n",
       "      <td>170</td>\n",
       "      <td>ANG MO KIO AVE 4</td>\n",
       "      <td>07 TO 09</td>\n",
       "      <td>69.0</td>\n",
       "      <td>Improved</td>\n",
       "      <td>1986</td>\n",
       "      <td>147000.0</td>\n",
       "      <td>2000</td>\n",
       "      <td>85</td>\n",
       "    </tr>\n",
       "    <tr>\n",
       "      <th>1</th>\n",
       "      <td>2000-01</td>\n",
       "      <td>ANG MO KIO</td>\n",
       "      <td>3 ROOM</td>\n",
       "      <td>174</td>\n",
       "      <td>ANG MO KIO AVE 4</td>\n",
       "      <td>04 TO 06</td>\n",
       "      <td>61.0</td>\n",
       "      <td>Improved</td>\n",
       "      <td>1986</td>\n",
       "      <td>144000.0</td>\n",
       "      <td>2000</td>\n",
       "      <td>85</td>\n",
       "    </tr>\n",
       "    <tr>\n",
       "      <th>2</th>\n",
       "      <td>2000-01</td>\n",
       "      <td>ANG MO KIO</td>\n",
       "      <td>3 ROOM</td>\n",
       "      <td>216</td>\n",
       "      <td>ANG MO KIO AVE 1</td>\n",
       "      <td>07 TO 09</td>\n",
       "      <td>73.0</td>\n",
       "      <td>New Generation</td>\n",
       "      <td>1976</td>\n",
       "      <td>159000.0</td>\n",
       "      <td>2000</td>\n",
       "      <td>75</td>\n",
       "    </tr>\n",
       "    <tr>\n",
       "      <th>3</th>\n",
       "      <td>2000-01</td>\n",
       "      <td>ANG MO KIO</td>\n",
       "      <td>3 ROOM</td>\n",
       "      <td>215</td>\n",
       "      <td>ANG MO KIO AVE 1</td>\n",
       "      <td>07 TO 09</td>\n",
       "      <td>73.0</td>\n",
       "      <td>New Generation</td>\n",
       "      <td>1976</td>\n",
       "      <td>167000.0</td>\n",
       "      <td>2000</td>\n",
       "      <td>75</td>\n",
       "    </tr>\n",
       "    <tr>\n",
       "      <th>4</th>\n",
       "      <td>2000-01</td>\n",
       "      <td>ANG MO KIO</td>\n",
       "      <td>3 ROOM</td>\n",
       "      <td>218</td>\n",
       "      <td>ANG MO KIO AVE 1</td>\n",
       "      <td>07 TO 09</td>\n",
       "      <td>67.0</td>\n",
       "      <td>New Generation</td>\n",
       "      <td>1976</td>\n",
       "      <td>163000.0</td>\n",
       "      <td>2000</td>\n",
       "      <td>75</td>\n",
       "    </tr>\n",
       "  </tbody>\n",
       "</table>\n",
       "</div>"
      ],
      "text/plain": [
       "     month        town flat_type block       street_name storey_range  \\\n",
       "0  2000-01  ANG MO KIO    3 ROOM   170  ANG MO KIO AVE 4     07 TO 09   \n",
       "1  2000-01  ANG MO KIO    3 ROOM   174  ANG MO KIO AVE 4     04 TO 06   \n",
       "2  2000-01  ANG MO KIO    3 ROOM   216  ANG MO KIO AVE 1     07 TO 09   \n",
       "3  2000-01  ANG MO KIO    3 ROOM   215  ANG MO KIO AVE 1     07 TO 09   \n",
       "4  2000-01  ANG MO KIO    3 ROOM   218  ANG MO KIO AVE 1     07 TO 09   \n",
       "\n",
       "   floor_area_sqm      flat_model  lease_commence_date  resale_price  year  \\\n",
       "0            69.0        Improved                 1986      147000.0  2000   \n",
       "1            61.0        Improved                 1986      144000.0  2000   \n",
       "2            73.0  New Generation                 1976      159000.0  2000   \n",
       "3            73.0  New Generation                 1976      167000.0  2000   \n",
       "4            67.0  New Generation                 1976      163000.0  2000   \n",
       "\n",
       "   remaining_lease  \n",
       "0               85  \n",
       "1               85  \n",
       "2               75  \n",
       "3               75  \n",
       "4               75  "
      ]
     },
     "execution_count": 6,
     "metadata": {},
     "output_type": "execute_result"
    }
   ],
   "source": [
    "for df in df_list[0:3]:\n",
    "    df['year'] = df['month'].str[:4] # transaction dates are saved as a string, with the years in the first 4 columns\n",
    "    df['year'] = df['year'].astype(int)\n",
    "    df['remaining_lease'] = df['lease_commence_date'] + 99 - df['year']\n",
    "df2000.head()"
   ]
  },
  {
   "cell_type": "markdown",
   "metadata": {},
   "source": [
    "Everythign looks fine here, we're going to drop the 'years' column to avoid future problems when we combine the dataframes!"
   ]
  },
  {
   "cell_type": "code",
   "execution_count": 7,
   "metadata": {},
   "outputs": [
    {
     "data": {
      "text/html": [
       "<div>\n",
       "<style scoped>\n",
       "    .dataframe tbody tr th:only-of-type {\n",
       "        vertical-align: middle;\n",
       "    }\n",
       "\n",
       "    .dataframe tbody tr th {\n",
       "        vertical-align: top;\n",
       "    }\n",
       "\n",
       "    .dataframe thead th {\n",
       "        text-align: right;\n",
       "    }\n",
       "</style>\n",
       "<table border=\"1\" class=\"dataframe\">\n",
       "  <thead>\n",
       "    <tr style=\"text-align: right;\">\n",
       "      <th></th>\n",
       "      <th>month</th>\n",
       "      <th>town</th>\n",
       "      <th>flat_type</th>\n",
       "      <th>block</th>\n",
       "      <th>street_name</th>\n",
       "      <th>storey_range</th>\n",
       "      <th>floor_area_sqm</th>\n",
       "      <th>flat_model</th>\n",
       "      <th>lease_commence_date</th>\n",
       "      <th>resale_price</th>\n",
       "      <th>remaining_lease</th>\n",
       "    </tr>\n",
       "  </thead>\n",
       "  <tbody>\n",
       "    <tr>\n",
       "      <th>0</th>\n",
       "      <td>2000-01</td>\n",
       "      <td>ANG MO KIO</td>\n",
       "      <td>3 ROOM</td>\n",
       "      <td>170</td>\n",
       "      <td>ANG MO KIO AVE 4</td>\n",
       "      <td>07 TO 09</td>\n",
       "      <td>69.0</td>\n",
       "      <td>Improved</td>\n",
       "      <td>1986</td>\n",
       "      <td>147000.0</td>\n",
       "      <td>85</td>\n",
       "    </tr>\n",
       "    <tr>\n",
       "      <th>1</th>\n",
       "      <td>2000-01</td>\n",
       "      <td>ANG MO KIO</td>\n",
       "      <td>3 ROOM</td>\n",
       "      <td>174</td>\n",
       "      <td>ANG MO KIO AVE 4</td>\n",
       "      <td>04 TO 06</td>\n",
       "      <td>61.0</td>\n",
       "      <td>Improved</td>\n",
       "      <td>1986</td>\n",
       "      <td>144000.0</td>\n",
       "      <td>85</td>\n",
       "    </tr>\n",
       "    <tr>\n",
       "      <th>2</th>\n",
       "      <td>2000-01</td>\n",
       "      <td>ANG MO KIO</td>\n",
       "      <td>3 ROOM</td>\n",
       "      <td>216</td>\n",
       "      <td>ANG MO KIO AVE 1</td>\n",
       "      <td>07 TO 09</td>\n",
       "      <td>73.0</td>\n",
       "      <td>New Generation</td>\n",
       "      <td>1976</td>\n",
       "      <td>159000.0</td>\n",
       "      <td>75</td>\n",
       "    </tr>\n",
       "    <tr>\n",
       "      <th>3</th>\n",
       "      <td>2000-01</td>\n",
       "      <td>ANG MO KIO</td>\n",
       "      <td>3 ROOM</td>\n",
       "      <td>215</td>\n",
       "      <td>ANG MO KIO AVE 1</td>\n",
       "      <td>07 TO 09</td>\n",
       "      <td>73.0</td>\n",
       "      <td>New Generation</td>\n",
       "      <td>1976</td>\n",
       "      <td>167000.0</td>\n",
       "      <td>75</td>\n",
       "    </tr>\n",
       "    <tr>\n",
       "      <th>4</th>\n",
       "      <td>2000-01</td>\n",
       "      <td>ANG MO KIO</td>\n",
       "      <td>3 ROOM</td>\n",
       "      <td>218</td>\n",
       "      <td>ANG MO KIO AVE 1</td>\n",
       "      <td>07 TO 09</td>\n",
       "      <td>67.0</td>\n",
       "      <td>New Generation</td>\n",
       "      <td>1976</td>\n",
       "      <td>163000.0</td>\n",
       "      <td>75</td>\n",
       "    </tr>\n",
       "  </tbody>\n",
       "</table>\n",
       "</div>"
      ],
      "text/plain": [
       "     month        town flat_type block       street_name storey_range  \\\n",
       "0  2000-01  ANG MO KIO    3 ROOM   170  ANG MO KIO AVE 4     07 TO 09   \n",
       "1  2000-01  ANG MO KIO    3 ROOM   174  ANG MO KIO AVE 4     04 TO 06   \n",
       "2  2000-01  ANG MO KIO    3 ROOM   216  ANG MO KIO AVE 1     07 TO 09   \n",
       "3  2000-01  ANG MO KIO    3 ROOM   215  ANG MO KIO AVE 1     07 TO 09   \n",
       "4  2000-01  ANG MO KIO    3 ROOM   218  ANG MO KIO AVE 1     07 TO 09   \n",
       "\n",
       "   floor_area_sqm      flat_model  lease_commence_date  resale_price  \\\n",
       "0            69.0        Improved                 1986      147000.0   \n",
       "1            61.0        Improved                 1986      144000.0   \n",
       "2            73.0  New Generation                 1976      159000.0   \n",
       "3            73.0  New Generation                 1976      167000.0   \n",
       "4            67.0  New Generation                 1976      163000.0   \n",
       "\n",
       "   remaining_lease  \n",
       "0               85  \n",
       "1               85  \n",
       "2               75  \n",
       "3               75  \n",
       "4               75  "
      ]
     },
     "execution_count": 7,
     "metadata": {},
     "output_type": "execute_result"
    }
   ],
   "source": [
    "for df in df_list[0:3]:\n",
    "    df.drop(columns=['year'],inplace = True)\n",
    "df2000.head()"
   ]
  },
  {
   "cell_type": "code",
   "execution_count": 8,
   "metadata": {},
   "outputs": [
    {
     "data": {
      "text/html": [
       "<div>\n",
       "<style scoped>\n",
       "    .dataframe tbody tr th:only-of-type {\n",
       "        vertical-align: middle;\n",
       "    }\n",
       "\n",
       "    .dataframe tbody tr th {\n",
       "        vertical-align: top;\n",
       "    }\n",
       "\n",
       "    .dataframe thead th {\n",
       "        text-align: right;\n",
       "    }\n",
       "</style>\n",
       "<table border=\"1\" class=\"dataframe\">\n",
       "  <thead>\n",
       "    <tr style=\"text-align: right;\">\n",
       "      <th></th>\n",
       "      <th>month</th>\n",
       "      <th>town</th>\n",
       "      <th>flat_type</th>\n",
       "      <th>block</th>\n",
       "      <th>street_name</th>\n",
       "      <th>storey_range</th>\n",
       "      <th>floor_area_sqm</th>\n",
       "      <th>flat_model</th>\n",
       "      <th>lease_commence_date</th>\n",
       "      <th>remaining_lease</th>\n",
       "      <th>resale_price</th>\n",
       "    </tr>\n",
       "  </thead>\n",
       "  <tbody>\n",
       "    <tr>\n",
       "      <th>0</th>\n",
       "      <td>2017-01</td>\n",
       "      <td>ANG MO KIO</td>\n",
       "      <td>2 ROOM</td>\n",
       "      <td>406</td>\n",
       "      <td>ANG MO KIO AVE 10</td>\n",
       "      <td>10 TO 12</td>\n",
       "      <td>44.0</td>\n",
       "      <td>Improved</td>\n",
       "      <td>1979</td>\n",
       "      <td>61 years 04 months</td>\n",
       "      <td>232000.0</td>\n",
       "    </tr>\n",
       "    <tr>\n",
       "      <th>1</th>\n",
       "      <td>2017-01</td>\n",
       "      <td>ANG MO KIO</td>\n",
       "      <td>3 ROOM</td>\n",
       "      <td>108</td>\n",
       "      <td>ANG MO KIO AVE 4</td>\n",
       "      <td>01 TO 03</td>\n",
       "      <td>67.0</td>\n",
       "      <td>New Generation</td>\n",
       "      <td>1978</td>\n",
       "      <td>60 years 07 months</td>\n",
       "      <td>250000.0</td>\n",
       "    </tr>\n",
       "    <tr>\n",
       "      <th>2</th>\n",
       "      <td>2017-01</td>\n",
       "      <td>ANG MO KIO</td>\n",
       "      <td>3 ROOM</td>\n",
       "      <td>602</td>\n",
       "      <td>ANG MO KIO AVE 5</td>\n",
       "      <td>01 TO 03</td>\n",
       "      <td>67.0</td>\n",
       "      <td>New Generation</td>\n",
       "      <td>1980</td>\n",
       "      <td>62 years 05 months</td>\n",
       "      <td>262000.0</td>\n",
       "    </tr>\n",
       "    <tr>\n",
       "      <th>3</th>\n",
       "      <td>2017-01</td>\n",
       "      <td>ANG MO KIO</td>\n",
       "      <td>3 ROOM</td>\n",
       "      <td>465</td>\n",
       "      <td>ANG MO KIO AVE 10</td>\n",
       "      <td>04 TO 06</td>\n",
       "      <td>68.0</td>\n",
       "      <td>New Generation</td>\n",
       "      <td>1980</td>\n",
       "      <td>62 years 01 month</td>\n",
       "      <td>265000.0</td>\n",
       "    </tr>\n",
       "    <tr>\n",
       "      <th>4</th>\n",
       "      <td>2017-01</td>\n",
       "      <td>ANG MO KIO</td>\n",
       "      <td>3 ROOM</td>\n",
       "      <td>601</td>\n",
       "      <td>ANG MO KIO AVE 5</td>\n",
       "      <td>01 TO 03</td>\n",
       "      <td>67.0</td>\n",
       "      <td>New Generation</td>\n",
       "      <td>1980</td>\n",
       "      <td>62 years 05 months</td>\n",
       "      <td>265000.0</td>\n",
       "    </tr>\n",
       "  </tbody>\n",
       "</table>\n",
       "</div>"
      ],
      "text/plain": [
       "     month        town flat_type block        street_name storey_range  \\\n",
       "0  2017-01  ANG MO KIO    2 ROOM   406  ANG MO KIO AVE 10     10 TO 12   \n",
       "1  2017-01  ANG MO KIO    3 ROOM   108   ANG MO KIO AVE 4     01 TO 03   \n",
       "2  2017-01  ANG MO KIO    3 ROOM   602   ANG MO KIO AVE 5     01 TO 03   \n",
       "3  2017-01  ANG MO KIO    3 ROOM   465  ANG MO KIO AVE 10     04 TO 06   \n",
       "4  2017-01  ANG MO KIO    3 ROOM   601   ANG MO KIO AVE 5     01 TO 03   \n",
       "\n",
       "   floor_area_sqm      flat_model  lease_commence_date     remaining_lease  \\\n",
       "0            44.0        Improved                 1979  61 years 04 months   \n",
       "1            67.0  New Generation                 1978  60 years 07 months   \n",
       "2            67.0  New Generation                 1980  62 years 05 months   \n",
       "3            68.0  New Generation                 1980   62 years 01 month   \n",
       "4            67.0  New Generation                 1980  62 years 05 months   \n",
       "\n",
       "   resale_price  \n",
       "0      232000.0  \n",
       "1      250000.0  \n",
       "2      262000.0  \n",
       "3      265000.0  \n",
       "4      265000.0  "
      ]
     },
     "execution_count": 8,
     "metadata": {},
     "output_type": "execute_result"
    }
   ],
   "source": [
    "df2017.head()"
   ]
  },
  {
   "cell_type": "markdown",
   "metadata": {},
   "source": [
    "For transactions from 2017, remaining leases are recorded as years and months, we'll just drop the months by slicing the first 2 chars (years) off the string since it's easier to do and probably not much data loss here."
   ]
  },
  {
   "cell_type": "code",
   "execution_count": 9,
   "metadata": {},
   "outputs": [],
   "source": [
    "df2017['remaining_lease'] = df2017['remaining_lease'].str[:2]\n",
    "df2017['remaining_lease'] = df2017['remaining_lease'].astype(int)"
   ]
  },
  {
   "cell_type": "code",
   "execution_count": 10,
   "metadata": {},
   "outputs": [
    {
     "data": {
      "text/plain": [
       "array([61, 60, 62, 63, 58, 59, 93, 94, 78, 70, 67, 68, 56, 66, 65, 69, 64,\n",
       "       83, 87, 71, 92, 54, 82, 75, 55, 74, 72, 80, 86, 79, 53, 57, 52, 51,\n",
       "       95, 90, 81, 85, 84, 77, 88, 49, 50, 89, 73, 48, 76, 91, 96, 47, 46,\n",
       "       45, 97])"
      ]
     },
     "execution_count": 10,
     "metadata": {},
     "output_type": "execute_result"
    }
   ],
   "source": [
    "# Just to check that there aren't any weird values sliced off!\n",
    "df2017['remaining_lease'].unique()"
   ]
  },
  {
   "cell_type": "markdown",
   "metadata": {},
   "source": [
    "# Now we're ready to combine the data!"
   ]
  },
  {
   "cell_type": "code",
   "execution_count": 11,
   "metadata": {},
   "outputs": [
    {
     "data": {
      "text/html": [
       "<div>\n",
       "<style scoped>\n",
       "    .dataframe tbody tr th:only-of-type {\n",
       "        vertical-align: middle;\n",
       "    }\n",
       "\n",
       "    .dataframe tbody tr th {\n",
       "        vertical-align: top;\n",
       "    }\n",
       "\n",
       "    .dataframe thead th {\n",
       "        text-align: right;\n",
       "    }\n",
       "</style>\n",
       "<table border=\"1\" class=\"dataframe\">\n",
       "  <thead>\n",
       "    <tr style=\"text-align: right;\">\n",
       "      <th></th>\n",
       "      <th>month</th>\n",
       "      <th>town</th>\n",
       "      <th>flat_type</th>\n",
       "      <th>block</th>\n",
       "      <th>street_name</th>\n",
       "      <th>storey_range</th>\n",
       "      <th>floor_area_sqm</th>\n",
       "      <th>flat_model</th>\n",
       "      <th>lease_commence_date</th>\n",
       "      <th>resale_price</th>\n",
       "      <th>remaining_lease</th>\n",
       "    </tr>\n",
       "  </thead>\n",
       "  <tbody>\n",
       "    <tr>\n",
       "      <th>80364</th>\n",
       "      <td>2020-09</td>\n",
       "      <td>YISHUN</td>\n",
       "      <td>5 ROOM</td>\n",
       "      <td>504D</td>\n",
       "      <td>YISHUN ST 51</td>\n",
       "      <td>13 TO 15</td>\n",
       "      <td>113.0</td>\n",
       "      <td>Improved</td>\n",
       "      <td>2016</td>\n",
       "      <td>630000.0</td>\n",
       "      <td>94</td>\n",
       "    </tr>\n",
       "    <tr>\n",
       "      <th>80365</th>\n",
       "      <td>2020-09</td>\n",
       "      <td>YISHUN</td>\n",
       "      <td>5 ROOM</td>\n",
       "      <td>504B</td>\n",
       "      <td>YISHUN ST 51</td>\n",
       "      <td>07 TO 09</td>\n",
       "      <td>112.0</td>\n",
       "      <td>Improved</td>\n",
       "      <td>2016</td>\n",
       "      <td>538000.0</td>\n",
       "      <td>94</td>\n",
       "    </tr>\n",
       "    <tr>\n",
       "      <th>80366</th>\n",
       "      <td>2020-09</td>\n",
       "      <td>YISHUN</td>\n",
       "      <td>5 ROOM</td>\n",
       "      <td>505B</td>\n",
       "      <td>YISHUN ST 51</td>\n",
       "      <td>04 TO 06</td>\n",
       "      <td>113.0</td>\n",
       "      <td>Improved</td>\n",
       "      <td>2016</td>\n",
       "      <td>540000.0</td>\n",
       "      <td>94</td>\n",
       "    </tr>\n",
       "    <tr>\n",
       "      <th>80367</th>\n",
       "      <td>2020-09</td>\n",
       "      <td>YISHUN</td>\n",
       "      <td>5 ROOM</td>\n",
       "      <td>637</td>\n",
       "      <td>YISHUN ST 61</td>\n",
       "      <td>10 TO 12</td>\n",
       "      <td>121.0</td>\n",
       "      <td>Improved</td>\n",
       "      <td>1987</td>\n",
       "      <td>459988.0</td>\n",
       "      <td>66</td>\n",
       "    </tr>\n",
       "    <tr>\n",
       "      <th>80368</th>\n",
       "      <td>2020-09</td>\n",
       "      <td>YISHUN</td>\n",
       "      <td>5 ROOM</td>\n",
       "      <td>626</td>\n",
       "      <td>YISHUN ST 61</td>\n",
       "      <td>04 TO 06</td>\n",
       "      <td>121.0</td>\n",
       "      <td>Improved</td>\n",
       "      <td>1987</td>\n",
       "      <td>460000.0</td>\n",
       "      <td>65</td>\n",
       "    </tr>\n",
       "    <tr>\n",
       "      <th>80369</th>\n",
       "      <td>2020-09</td>\n",
       "      <td>YISHUN</td>\n",
       "      <td>5 ROOM</td>\n",
       "      <td>716</td>\n",
       "      <td>YISHUN ST 71</td>\n",
       "      <td>07 TO 09</td>\n",
       "      <td>131.0</td>\n",
       "      <td>Improved</td>\n",
       "      <td>1987</td>\n",
       "      <td>440000.0</td>\n",
       "      <td>66</td>\n",
       "    </tr>\n",
       "    <tr>\n",
       "      <th>80370</th>\n",
       "      <td>2020-09</td>\n",
       "      <td>YISHUN</td>\n",
       "      <td>5 ROOM</td>\n",
       "      <td>760</td>\n",
       "      <td>YISHUN ST 72</td>\n",
       "      <td>07 TO 09</td>\n",
       "      <td>122.0</td>\n",
       "      <td>Improved</td>\n",
       "      <td>1987</td>\n",
       "      <td>458000.0</td>\n",
       "      <td>65</td>\n",
       "    </tr>\n",
       "    <tr>\n",
       "      <th>80371</th>\n",
       "      <td>2020-09</td>\n",
       "      <td>YISHUN</td>\n",
       "      <td>5 ROOM</td>\n",
       "      <td>835</td>\n",
       "      <td>YISHUN ST 81</td>\n",
       "      <td>04 TO 06</td>\n",
       "      <td>122.0</td>\n",
       "      <td>Improved</td>\n",
       "      <td>1987</td>\n",
       "      <td>490000.0</td>\n",
       "      <td>66</td>\n",
       "    </tr>\n",
       "    <tr>\n",
       "      <th>80372</th>\n",
       "      <td>2020-09</td>\n",
       "      <td>YISHUN</td>\n",
       "      <td>EXECUTIVE</td>\n",
       "      <td>791</td>\n",
       "      <td>YISHUN AVE 2</td>\n",
       "      <td>04 TO 06</td>\n",
       "      <td>146.0</td>\n",
       "      <td>Maisonette</td>\n",
       "      <td>1987</td>\n",
       "      <td>558000.0</td>\n",
       "      <td>66</td>\n",
       "    </tr>\n",
       "    <tr>\n",
       "      <th>80373</th>\n",
       "      <td>2020-09</td>\n",
       "      <td>YISHUN</td>\n",
       "      <td>EXECUTIVE</td>\n",
       "      <td>387</td>\n",
       "      <td>YISHUN RING RD</td>\n",
       "      <td>04 TO 06</td>\n",
       "      <td>146.0</td>\n",
       "      <td>Maisonette</td>\n",
       "      <td>1988</td>\n",
       "      <td>555000.0</td>\n",
       "      <td>66</td>\n",
       "    </tr>\n",
       "  </tbody>\n",
       "</table>\n",
       "</div>"
      ],
      "text/plain": [
       "         month    town  flat_type block     street_name storey_range  \\\n",
       "80364  2020-09  YISHUN     5 ROOM  504D    YISHUN ST 51     13 TO 15   \n",
       "80365  2020-09  YISHUN     5 ROOM  504B    YISHUN ST 51     07 TO 09   \n",
       "80366  2020-09  YISHUN     5 ROOM  505B    YISHUN ST 51     04 TO 06   \n",
       "80367  2020-09  YISHUN     5 ROOM   637    YISHUN ST 61     10 TO 12   \n",
       "80368  2020-09  YISHUN     5 ROOM   626    YISHUN ST 61     04 TO 06   \n",
       "80369  2020-09  YISHUN     5 ROOM   716    YISHUN ST 71     07 TO 09   \n",
       "80370  2020-09  YISHUN     5 ROOM   760    YISHUN ST 72     07 TO 09   \n",
       "80371  2020-09  YISHUN     5 ROOM   835    YISHUN ST 81     04 TO 06   \n",
       "80372  2020-09  YISHUN  EXECUTIVE   791    YISHUN AVE 2     04 TO 06   \n",
       "80373  2020-09  YISHUN  EXECUTIVE   387  YISHUN RING RD     04 TO 06   \n",
       "\n",
       "       floor_area_sqm  flat_model  lease_commence_date  resale_price  \\\n",
       "80364           113.0    Improved                 2016      630000.0   \n",
       "80365           112.0    Improved                 2016      538000.0   \n",
       "80366           113.0    Improved                 2016      540000.0   \n",
       "80367           121.0    Improved                 1987      459988.0   \n",
       "80368           121.0    Improved                 1987      460000.0   \n",
       "80369           131.0    Improved                 1987      440000.0   \n",
       "80370           122.0    Improved                 1987      458000.0   \n",
       "80371           122.0    Improved                 1987      490000.0   \n",
       "80372           146.0  Maisonette                 1987      558000.0   \n",
       "80373           146.0  Maisonette                 1988      555000.0   \n",
       "\n",
       "       remaining_lease  \n",
       "80364               94  \n",
       "80365               94  \n",
       "80366               94  \n",
       "80367               66  \n",
       "80368               65  \n",
       "80369               66  \n",
       "80370               65  \n",
       "80371               66  \n",
       "80372               66  \n",
       "80373               66  "
      ]
     },
     "execution_count": 11,
     "metadata": {},
     "output_type": "execute_result"
    }
   ],
   "source": [
    "transactions = pd.concat(df_list)\n",
    "transactions.tail(10) #check random rows of the data to see if data has been combined successfully!"
   ]
  },
  {
   "cell_type": "code",
   "execution_count": 12,
   "metadata": {},
   "outputs": [
    {
     "data": {
      "text/plain": [
       "month                  0\n",
       "town                   0\n",
       "flat_type              0\n",
       "block                  0\n",
       "street_name            0\n",
       "storey_range           0\n",
       "floor_area_sqm         0\n",
       "flat_model             0\n",
       "lease_commence_date    0\n",
       "resale_price           0\n",
       "remaining_lease        0\n",
       "dtype: int64"
      ]
     },
     "execution_count": 12,
     "metadata": {},
     "output_type": "execute_result"
    }
   ],
   "source": [
    "transactions.isna().sum() #check if any null data exists, indicates something went wrong in the concatenation!"
   ]
  },
  {
   "cell_type": "code",
   "execution_count": 13,
   "metadata": {},
   "outputs": [
    {
     "data": {
      "text/plain": [
       "(826581, 11)"
      ]
     },
     "execution_count": 13,
     "metadata": {},
     "output_type": "execute_result"
    }
   ],
   "source": [
    "transactions.shape"
   ]
  },
  {
   "cell_type": "markdown",
   "metadata": {},
   "source": [
    "We have 826581 transactions and 11 features, from which to make a simple regression model!\n",
    "\n",
    "**A few considerations before starting to fit a regression model:**\n",
    "\n",
    "* Resale prices have grown tremendously from 1990s (start of data set), how will I account for the price changes due to inflation? \n",
    "* Location is one of the obvious factor for prices, we have 2 features, street name and block that code for this property, but working with block and street names are always tricky and users might key in the same value differently e.g. Yishun Street v.s. Yishun St.\n",
    "* Are there differences in data entry format that could same data to be interpreted differently?\n",
    "* Storey ranges: traditionally, the higher the floor, the better, how should I best represent them?\n",
    "\n",
    "Ideas to address issues:\n",
    "* Transaction dates are included, if this is included as a feature, inflation should be addressed by this feature\n",
    "* I could concatenate the block and street names to form a complete address, but in order to make it easy to use, I'll try converting it to a postal code (long side story for another post)\n",
    "* Explore the data and standardise/replace data entry format!\n",
    "* Data provided is already binned, let's convert them into ordinal features"
   ]
  },
  {
   "cell_type": "code",
   "execution_count": 14,
   "metadata": {},
   "outputs": [
    {
     "data": {
      "text/plain": [
       "array(['1 ROOM', '3 ROOM', '4 ROOM', '5 ROOM', '2 ROOM', 'EXECUTIVE',\n",
       "       'MULTI GENERATION', 'MULTI-GENERATION'], dtype=object)"
      ]
     },
     "execution_count": 14,
     "metadata": {},
     "output_type": "execute_result"
    }
   ],
   "source": [
    "transactions['flat_type'].unique()"
   ]
  },
  {
   "cell_type": "markdown",
   "metadata": {},
   "source": [
    "Looks like a simple replacement of 'MULTI-GENERATION' with ''MULTI GENERATION' will do the trick!"
   ]
  },
  {
   "cell_type": "code",
   "execution_count": 15,
   "metadata": {},
   "outputs": [
    {
     "data": {
      "text/plain": [
       "array(['1 ROOM', '3 ROOM', '4 ROOM', '5 ROOM', '2 ROOM', 'EXECUTIVE',\n",
       "       'MULTI GENERATION'], dtype=object)"
      ]
     },
     "execution_count": 15,
     "metadata": {},
     "output_type": "execute_result"
    }
   ],
   "source": [
    "flat_type_dup = {'MULTI-GENERATION' : 'MULTI GENERATION'}\n",
    "transactions.replace({'flat_type':flat_type_dup}, inplace = True)\n",
    "transactions['flat_type'].unique() #Done!"
   ]
  },
  {
   "cell_type": "code",
   "execution_count": 16,
   "metadata": {},
   "outputs": [
    {
     "data": {
      "text/plain": [
       "array(['IMPROVED', 'NEW GENERATION', 'MODEL A', 'STANDARD', 'SIMPLIFIED',\n",
       "       'MODEL A-MAISONETTE', 'APARTMENT', 'MAISONETTE', 'TERRACE',\n",
       "       '2-ROOM', 'IMPROVED-MAISONETTE', 'MULTI GENERATION',\n",
       "       'PREMIUM APARTMENT', 'Improved', 'New Generation', 'Model A',\n",
       "       'Standard', 'Apartment', 'Simplified', 'Model A-Maisonette',\n",
       "       'Maisonette', 'Multi Generation', 'Adjoined flat',\n",
       "       'Premium Apartment', 'Terrace', 'Improved-Maisonette',\n",
       "       'Premium Maisonette', '2-room', 'Model A2', 'DBSS', 'Type S1',\n",
       "       'Type S2', 'Premium Apartment Loft'], dtype=object)"
      ]
     },
     "execution_count": 16,
     "metadata": {},
     "output_type": "execute_result"
    }
   ],
   "source": [
    "transactions['flat_model'].unique()"
   ]
  },
  {
   "cell_type": "markdown",
   "metadata": {},
   "source": [
    "Seems like it's a classic upper/lower case mismatch during data entry! Let's just change it all to upper case!"
   ]
  },
  {
   "cell_type": "code",
   "execution_count": 17,
   "metadata": {},
   "outputs": [
    {
     "data": {
      "text/plain": [
       "array(['IMPROVED', 'NEW GENERATION', 'MODEL A', 'STANDARD', 'SIMPLIFIED',\n",
       "       'MODEL A-MAISONETTE', 'APARTMENT', 'MAISONETTE', 'TERRACE',\n",
       "       '2-ROOM', 'IMPROVED-MAISONETTE', 'MULTI GENERATION',\n",
       "       'PREMIUM APARTMENT', 'ADJOINED FLAT', 'PREMIUM MAISONETTE',\n",
       "       'MODEL A2', 'DBSS', 'TYPE S1', 'TYPE S2', 'PREMIUM APARTMENT LOFT'],\n",
       "      dtype=object)"
      ]
     },
     "execution_count": 17,
     "metadata": {},
     "output_type": "execute_result"
    }
   ],
   "source": [
    "transactions['flat_model'] = transactions['flat_model'].str.upper()\n",
    "transactions['flat_model'].unique()"
   ]
  },
  {
   "cell_type": "markdown",
   "metadata": {},
   "source": [
    "## Duplicates removed!"
   ]
  },
  {
   "cell_type": "code",
   "execution_count": 18,
   "metadata": {},
   "outputs": [
    {
     "data": {
      "text/plain": [
       "array(['01 TO 03', '01 TO 05', '04 TO 06', '06 TO 10', '07 TO 09',\n",
       "       '10 TO 12', '11 TO 15', '13 TO 15', '16 TO 18', '16 TO 20',\n",
       "       '19 TO 21', '21 TO 25', '22 TO 24', '25 TO 27', '26 TO 30',\n",
       "       '28 TO 30', '31 TO 33', '31 TO 35', '34 TO 36', '36 TO 40',\n",
       "       '37 TO 39', '40 TO 42', '43 TO 45', '46 TO 48', '49 TO 51'],\n",
       "      dtype=object)"
      ]
     },
     "execution_count": 18,
     "metadata": {},
     "output_type": "execute_result"
    }
   ],
   "source": [
    "storey_ranges = transactions['storey_range'].unique()\n",
    "storey_ranges.sort()\n",
    "storey_ranges"
   ]
  },
  {
   "cell_type": "markdown",
   "metadata": {},
   "source": [
    "Problem: These are in overlapping bins! 01-03 and 01-05?! Also it goes all the way to 51? I have a feeling distributions of flats above 15 are going to be tiny?"
   ]
  },
  {
   "cell_type": "code",
   "execution_count": 19,
   "metadata": {},
   "outputs": [
    {
     "data": {
      "text/plain": [
       "04 TO 06    209705\n",
       "07 TO 09    189109\n",
       "01 TO 03    168985\n",
       "10 TO 12    160250\n",
       "13 TO 15     52212\n",
       "16 TO 18     19449\n",
       "19 TO 21      9422\n",
       "22 TO 24      6053\n",
       "01 TO 05      2700\n",
       "25 TO 27      2544\n",
       "06 TO 10      2474\n",
       "11 TO 15      1259\n",
       "28 TO 30      1049\n",
       "34 TO 36       267\n",
       "16 TO 20       265\n",
       "31 TO 33       265\n",
       "37 TO 39       255\n",
       "40 TO 42       132\n",
       "21 TO 25        92\n",
       "26 TO 30        39\n",
       "46 TO 48        21\n",
       "43 TO 45        16\n",
       "49 TO 51         9\n",
       "36 TO 40         7\n",
       "31 TO 35         2\n",
       "Name: storey_range, dtype: int64"
      ]
     },
     "execution_count": 19,
     "metadata": {},
     "output_type": "execute_result"
    }
   ],
   "source": [
    "transactions['storey_range'].value_counts()"
   ]
  },
  {
   "cell_type": "markdown",
   "metadata": {},
   "source": [
    "Maybe we should bin levels above 31 together? Side note: you can visualize this with a histogram too with .hist()\n",
    "Back to our storey ranges, we have 2 tasks:\n",
    "\n",
    "* remove the overlapping ones by joining them\n",
    "* bin all the levels 31 and above\n",
    "\n",
    "There's probably a smart way of doing this by algo, but there aren't that many groups, so I'm going to do this manually."
   ]
  },
  {
   "cell_type": "code",
   "execution_count": 20,
   "metadata": {},
   "outputs": [],
   "source": [
    "transactions.loc[transactions['storey_range']=='01 TO 03','storey_range'] = '01 TO 05'\n",
    "transactions.loc[transactions['storey_range']=='04 TO 06','storey_range'] = '01 TO 05'\n",
    "transactions.loc[transactions['storey_range']=='07 TO 09','storey_range'] = '06 TO 10'\n",
    "transactions.loc[transactions['storey_range']=='10 TO 12','storey_range'] = '11 TO 15'\n",
    "transactions.loc[transactions['storey_range']=='13 TO 15','storey_range'] = '11 TO 15'\n",
    "transactions.loc[transactions['storey_range']=='16 TO 18','storey_range'] = '16 TO 20'\n",
    "transactions.loc[transactions['storey_range']=='19 TO 21','storey_range'] = '16 TO 20'\n",
    "transactions.loc[transactions['storey_range']=='22 TO 24','storey_range'] = '21 TO 25'\n",
    "transactions.loc[transactions['storey_range']=='25 TO 27','storey_range'] = '26 TO 30'\n",
    "transactions.loc[transactions['storey_range']=='28 TO 30','storey_range'] = '26 TO 30'"
   ]
  },
  {
   "cell_type": "code",
   "execution_count": 21,
   "metadata": {},
   "outputs": [
    {
     "data": {
      "text/plain": [
       "array(['01 TO 05', '06 TO 10', '11 TO 15', '16 TO 20', '21 TO 25',\n",
       "       '26 TO 30', '31 TO 33', '31 TO 35', '34 TO 36', '36 TO 40',\n",
       "       '37 TO 39', '40 TO 42', '43 TO 45', '46 TO 48', '49 TO 51'],\n",
       "      dtype=object)"
      ]
     },
     "execution_count": 21,
     "metadata": {},
     "output_type": "execute_result"
    }
   ],
   "source": [
    "storey_ranges = transactions['storey_range'].unique()\n",
    "storey_ranges.sort()\n",
    "storey_ranges"
   ]
  },
  {
   "cell_type": "code",
   "execution_count": 22,
   "metadata": {},
   "outputs": [
    {
     "data": {
      "text/plain": [
       "6"
      ]
     },
     "execution_count": 22,
     "metadata": {},
     "output_type": "execute_result"
    }
   ],
   "source": [
    "idx = list(storey_ranges).index('31 TO 33')\n",
    "idx"
   ]
  },
  {
   "cell_type": "code",
   "execution_count": 23,
   "metadata": {},
   "outputs": [
    {
     "data": {
      "text/plain": [
       "array(['11 TO 15', '01 TO 05', '06 TO 10', '16 TO 20', '26 TO 30',\n",
       "       '21 TO 25', '31 TO 51'], dtype=object)"
      ]
     },
     "execution_count": 23,
     "metadata": {},
     "output_type": "execute_result"
    }
   ],
   "source": [
    "# hacky way of binning levels above 31\n",
    "for i in range(idx,15):\n",
    "    storey = storey_ranges[i]\n",
    "    transactions.loc[transactions['storey_range'] == storey, 'storey_range'] = '31 TO 51'\n",
    "transactions['storey_range'].unique()\n",
    "# Looks good!"
   ]
  },
  {
   "cell_type": "markdown",
   "metadata": {},
   "source": [
    "Now that it's cleaned, let's give it make it an ordinal feature, as we know that higher level units are more desirable than lower ones (for a variety of reasons), so higher > lower!"
   ]
  },
  {
   "cell_type": "code",
   "execution_count": 24,
   "metadata": {},
   "outputs": [
    {
     "data": {
      "text/plain": [
       "{'01 TO 05': 0,\n",
       " '06 TO 10': 1,\n",
       " '11 TO 15': 2,\n",
       " '16 TO 20': 3,\n",
       " '21 TO 25': 4,\n",
       " '26 TO 30': 5,\n",
       " '31 TO 51': 6}"
      ]
     },
     "execution_count": 24,
     "metadata": {},
     "output_type": "execute_result"
    }
   ],
   "source": [
    "storey_ranges = transactions['storey_range'].unique()\n",
    "storey_ranges.sort()\n",
    "storey_converter = {v:k for k,v in enumerate(storey_ranges)}\n",
    "storey_converter"
   ]
  },
  {
   "cell_type": "code",
   "execution_count": 25,
   "metadata": {},
   "outputs": [
    {
     "data": {
      "text/html": [
       "<div>\n",
       "<style scoped>\n",
       "    .dataframe tbody tr th:only-of-type {\n",
       "        vertical-align: middle;\n",
       "    }\n",
       "\n",
       "    .dataframe tbody tr th {\n",
       "        vertical-align: top;\n",
       "    }\n",
       "\n",
       "    .dataframe thead th {\n",
       "        text-align: right;\n",
       "    }\n",
       "</style>\n",
       "<table border=\"1\" class=\"dataframe\">\n",
       "  <thead>\n",
       "    <tr style=\"text-align: right;\">\n",
       "      <th></th>\n",
       "      <th>month</th>\n",
       "      <th>town</th>\n",
       "      <th>flat_type</th>\n",
       "      <th>block</th>\n",
       "      <th>street_name</th>\n",
       "      <th>storey_range</th>\n",
       "      <th>floor_area_sqm</th>\n",
       "      <th>flat_model</th>\n",
       "      <th>lease_commence_date</th>\n",
       "      <th>resale_price</th>\n",
       "      <th>remaining_lease</th>\n",
       "    </tr>\n",
       "  </thead>\n",
       "  <tbody>\n",
       "    <tr>\n",
       "      <th>0</th>\n",
       "      <td>1990-01</td>\n",
       "      <td>ANG MO KIO</td>\n",
       "      <td>1 ROOM</td>\n",
       "      <td>309</td>\n",
       "      <td>ANG MO KIO AVE 1</td>\n",
       "      <td>2</td>\n",
       "      <td>31.0</td>\n",
       "      <td>IMPROVED</td>\n",
       "      <td>1977</td>\n",
       "      <td>9000.0</td>\n",
       "      <td>86</td>\n",
       "    </tr>\n",
       "    <tr>\n",
       "      <th>1</th>\n",
       "      <td>1990-01</td>\n",
       "      <td>ANG MO KIO</td>\n",
       "      <td>1 ROOM</td>\n",
       "      <td>309</td>\n",
       "      <td>ANG MO KIO AVE 1</td>\n",
       "      <td>0</td>\n",
       "      <td>31.0</td>\n",
       "      <td>IMPROVED</td>\n",
       "      <td>1977</td>\n",
       "      <td>6000.0</td>\n",
       "      <td>86</td>\n",
       "    </tr>\n",
       "    <tr>\n",
       "      <th>2</th>\n",
       "      <td>1990-01</td>\n",
       "      <td>ANG MO KIO</td>\n",
       "      <td>1 ROOM</td>\n",
       "      <td>309</td>\n",
       "      <td>ANG MO KIO AVE 1</td>\n",
       "      <td>2</td>\n",
       "      <td>31.0</td>\n",
       "      <td>IMPROVED</td>\n",
       "      <td>1977</td>\n",
       "      <td>8000.0</td>\n",
       "      <td>86</td>\n",
       "    </tr>\n",
       "    <tr>\n",
       "      <th>3</th>\n",
       "      <td>1990-01</td>\n",
       "      <td>ANG MO KIO</td>\n",
       "      <td>1 ROOM</td>\n",
       "      <td>309</td>\n",
       "      <td>ANG MO KIO AVE 1</td>\n",
       "      <td>1</td>\n",
       "      <td>31.0</td>\n",
       "      <td>IMPROVED</td>\n",
       "      <td>1977</td>\n",
       "      <td>6000.0</td>\n",
       "      <td>86</td>\n",
       "    </tr>\n",
       "    <tr>\n",
       "      <th>4</th>\n",
       "      <td>1990-01</td>\n",
       "      <td>ANG MO KIO</td>\n",
       "      <td>3 ROOM</td>\n",
       "      <td>216</td>\n",
       "      <td>ANG MO KIO AVE 1</td>\n",
       "      <td>0</td>\n",
       "      <td>73.0</td>\n",
       "      <td>NEW GENERATION</td>\n",
       "      <td>1976</td>\n",
       "      <td>47200.0</td>\n",
       "      <td>85</td>\n",
       "    </tr>\n",
       "  </tbody>\n",
       "</table>\n",
       "</div>"
      ],
      "text/plain": [
       "     month        town flat_type block       street_name  storey_range  \\\n",
       "0  1990-01  ANG MO KIO    1 ROOM   309  ANG MO KIO AVE 1             2   \n",
       "1  1990-01  ANG MO KIO    1 ROOM   309  ANG MO KIO AVE 1             0   \n",
       "2  1990-01  ANG MO KIO    1 ROOM   309  ANG MO KIO AVE 1             2   \n",
       "3  1990-01  ANG MO KIO    1 ROOM   309  ANG MO KIO AVE 1             1   \n",
       "4  1990-01  ANG MO KIO    3 ROOM   216  ANG MO KIO AVE 1             0   \n",
       "\n",
       "   floor_area_sqm      flat_model  lease_commence_date  resale_price  \\\n",
       "0            31.0        IMPROVED                 1977        9000.0   \n",
       "1            31.0        IMPROVED                 1977        6000.0   \n",
       "2            31.0        IMPROVED                 1977        8000.0   \n",
       "3            31.0        IMPROVED                 1977        6000.0   \n",
       "4            73.0  NEW GENERATION                 1976       47200.0   \n",
       "\n",
       "   remaining_lease  \n",
       "0               86  \n",
       "1               86  \n",
       "2               86  \n",
       "3               86  \n",
       "4               85  "
      ]
     },
     "execution_count": 25,
     "metadata": {},
     "output_type": "execute_result"
    }
   ],
   "source": [
    "# Replacing the data\n",
    "transactions.replace({\"storey_range\":storey_converter},inplace=True)\n",
    "transactions.head(5)"
   ]
  },
  {
   "cell_type": "code",
   "execution_count": 26,
   "metadata": {},
   "outputs": [
    {
     "data": {
      "text/plain": [
       "0    381390\n",
       "2    213721\n",
       "1    191583\n",
       "3     29136\n",
       "4      6145\n",
       "5      3632\n",
       "6       974\n",
       "Name: storey_range, dtype: int64"
      ]
     },
     "execution_count": 26,
     "metadata": {},
     "output_type": "execute_result"
    }
   ],
   "source": [
    "transactions['storey_range'].value_counts()"
   ]
  },
  {
   "cell_type": "markdown",
   "metadata": {},
   "source": [
    "## Now to address the fact that the transactions are over 30 years and the date of transaction undeniably has an impact on the resale price!\n",
    "\n",
    "However, SKlearn does not accept date/time formats as features so we are going to have to convert it to an ordinal number from day 0, day 0 being the 1st transaction date, January 1990"
   ]
  },
  {
   "cell_type": "code",
   "execution_count": 27,
   "metadata": {},
   "outputs": [
    {
     "data": {
      "text/html": [
       "<div>\n",
       "<style scoped>\n",
       "    .dataframe tbody tr th:only-of-type {\n",
       "        vertical-align: middle;\n",
       "    }\n",
       "\n",
       "    .dataframe tbody tr th {\n",
       "        vertical-align: top;\n",
       "    }\n",
       "\n",
       "    .dataframe thead th {\n",
       "        text-align: right;\n",
       "    }\n",
       "</style>\n",
       "<table border=\"1\" class=\"dataframe\">\n",
       "  <thead>\n",
       "    <tr style=\"text-align: right;\">\n",
       "      <th></th>\n",
       "      <th>month</th>\n",
       "      <th>town</th>\n",
       "      <th>flat_type</th>\n",
       "      <th>block</th>\n",
       "      <th>street_name</th>\n",
       "      <th>storey_range</th>\n",
       "      <th>floor_area_sqm</th>\n",
       "      <th>flat_model</th>\n",
       "      <th>lease_commence_date</th>\n",
       "      <th>resale_price</th>\n",
       "      <th>remaining_lease</th>\n",
       "    </tr>\n",
       "  </thead>\n",
       "  <tbody>\n",
       "    <tr>\n",
       "      <th>0</th>\n",
       "      <td>1990-01</td>\n",
       "      <td>ANG MO KIO</td>\n",
       "      <td>1 ROOM</td>\n",
       "      <td>309</td>\n",
       "      <td>ANG MO KIO AVE 1</td>\n",
       "      <td>2</td>\n",
       "      <td>31.0</td>\n",
       "      <td>IMPROVED</td>\n",
       "      <td>1977</td>\n",
       "      <td>9000.0</td>\n",
       "      <td>86</td>\n",
       "    </tr>\n",
       "    <tr>\n",
       "      <th>1</th>\n",
       "      <td>1990-01</td>\n",
       "      <td>ANG MO KIO</td>\n",
       "      <td>1 ROOM</td>\n",
       "      <td>309</td>\n",
       "      <td>ANG MO KIO AVE 1</td>\n",
       "      <td>0</td>\n",
       "      <td>31.0</td>\n",
       "      <td>IMPROVED</td>\n",
       "      <td>1977</td>\n",
       "      <td>6000.0</td>\n",
       "      <td>86</td>\n",
       "    </tr>\n",
       "    <tr>\n",
       "      <th>2</th>\n",
       "      <td>1990-01</td>\n",
       "      <td>ANG MO KIO</td>\n",
       "      <td>1 ROOM</td>\n",
       "      <td>309</td>\n",
       "      <td>ANG MO KIO AVE 1</td>\n",
       "      <td>2</td>\n",
       "      <td>31.0</td>\n",
       "      <td>IMPROVED</td>\n",
       "      <td>1977</td>\n",
       "      <td>8000.0</td>\n",
       "      <td>86</td>\n",
       "    </tr>\n",
       "    <tr>\n",
       "      <th>3</th>\n",
       "      <td>1990-01</td>\n",
       "      <td>ANG MO KIO</td>\n",
       "      <td>1 ROOM</td>\n",
       "      <td>309</td>\n",
       "      <td>ANG MO KIO AVE 1</td>\n",
       "      <td>1</td>\n",
       "      <td>31.0</td>\n",
       "      <td>IMPROVED</td>\n",
       "      <td>1977</td>\n",
       "      <td>6000.0</td>\n",
       "      <td>86</td>\n",
       "    </tr>\n",
       "    <tr>\n",
       "      <th>4</th>\n",
       "      <td>1990-01</td>\n",
       "      <td>ANG MO KIO</td>\n",
       "      <td>3 ROOM</td>\n",
       "      <td>216</td>\n",
       "      <td>ANG MO KIO AVE 1</td>\n",
       "      <td>0</td>\n",
       "      <td>73.0</td>\n",
       "      <td>NEW GENERATION</td>\n",
       "      <td>1976</td>\n",
       "      <td>47200.0</td>\n",
       "      <td>85</td>\n",
       "    </tr>\n",
       "  </tbody>\n",
       "</table>\n",
       "</div>"
      ],
      "text/plain": [
       "     month        town flat_type block       street_name  storey_range  \\\n",
       "0  1990-01  ANG MO KIO    1 ROOM   309  ANG MO KIO AVE 1             2   \n",
       "1  1990-01  ANG MO KIO    1 ROOM   309  ANG MO KIO AVE 1             0   \n",
       "2  1990-01  ANG MO KIO    1 ROOM   309  ANG MO KIO AVE 1             2   \n",
       "3  1990-01  ANG MO KIO    1 ROOM   309  ANG MO KIO AVE 1             1   \n",
       "4  1990-01  ANG MO KIO    3 ROOM   216  ANG MO KIO AVE 1             0   \n",
       "\n",
       "   floor_area_sqm      flat_model  lease_commence_date  resale_price  \\\n",
       "0            31.0        IMPROVED                 1977        9000.0   \n",
       "1            31.0        IMPROVED                 1977        6000.0   \n",
       "2            31.0        IMPROVED                 1977        8000.0   \n",
       "3            31.0        IMPROVED                 1977        6000.0   \n",
       "4            73.0  NEW GENERATION                 1976       47200.0   \n",
       "\n",
       "   remaining_lease  \n",
       "0               86  \n",
       "1               86  \n",
       "2               86  \n",
       "3               86  \n",
       "4               85  "
      ]
     },
     "execution_count": 27,
     "metadata": {},
     "output_type": "execute_result"
    }
   ],
   "source": [
    "transactions.head()"
   ]
  },
  {
   "cell_type": "code",
   "execution_count": 28,
   "metadata": {},
   "outputs": [
    {
     "data": {
      "text/html": [
       "<div>\n",
       "<style scoped>\n",
       "    .dataframe tbody tr th:only-of-type {\n",
       "        vertical-align: middle;\n",
       "    }\n",
       "\n",
       "    .dataframe tbody tr th {\n",
       "        vertical-align: top;\n",
       "    }\n",
       "\n",
       "    .dataframe thead th {\n",
       "        text-align: right;\n",
       "    }\n",
       "</style>\n",
       "<table border=\"1\" class=\"dataframe\">\n",
       "  <thead>\n",
       "    <tr style=\"text-align: right;\">\n",
       "      <th></th>\n",
       "      <th>month</th>\n",
       "      <th>town</th>\n",
       "      <th>flat_type</th>\n",
       "      <th>block</th>\n",
       "      <th>street_name</th>\n",
       "      <th>storey_range</th>\n",
       "      <th>floor_area_sqm</th>\n",
       "      <th>flat_model</th>\n",
       "      <th>lease_commence_date</th>\n",
       "      <th>resale_price</th>\n",
       "      <th>remaining_lease</th>\n",
       "      <th>tx_day</th>\n",
       "    </tr>\n",
       "  </thead>\n",
       "  <tbody>\n",
       "    <tr>\n",
       "      <th>101137</th>\n",
       "      <td>2002-10-01</td>\n",
       "      <td>CHOA CHU KANG</td>\n",
       "      <td>3 ROOM</td>\n",
       "      <td>111</td>\n",
       "      <td>TECK WHYE LANE</td>\n",
       "      <td>1</td>\n",
       "      <td>73.0</td>\n",
       "      <td>MODEL A</td>\n",
       "      <td>1989</td>\n",
       "      <td>132000.0</td>\n",
       "      <td>86</td>\n",
       "      <td>4656 days</td>\n",
       "    </tr>\n",
       "    <tr>\n",
       "      <th>74252</th>\n",
       "      <td>2002-01-01</td>\n",
       "      <td>HOUGANG</td>\n",
       "      <td>3 ROOM</td>\n",
       "      <td>617</td>\n",
       "      <td>HOUGANG AVE 8</td>\n",
       "      <td>1</td>\n",
       "      <td>64.0</td>\n",
       "      <td>SIMPLIFIED</td>\n",
       "      <td>1986</td>\n",
       "      <td>131800.0</td>\n",
       "      <td>83</td>\n",
       "      <td>4383 days</td>\n",
       "    </tr>\n",
       "    <tr>\n",
       "      <th>130495</th>\n",
       "      <td>2003-10-01</td>\n",
       "      <td>HOUGANG</td>\n",
       "      <td>4 ROOM</td>\n",
       "      <td>19</td>\n",
       "      <td>HOUGANG AVE 3</td>\n",
       "      <td>0</td>\n",
       "      <td>98.0</td>\n",
       "      <td>NEW GENERATION</td>\n",
       "      <td>1978</td>\n",
       "      <td>240000.0</td>\n",
       "      <td>74</td>\n",
       "      <td>5021 days</td>\n",
       "    </tr>\n",
       "    <tr>\n",
       "      <th>20971</th>\n",
       "      <td>2016-03-01</td>\n",
       "      <td>JURONG EAST</td>\n",
       "      <td>4 ROOM</td>\n",
       "      <td>52</td>\n",
       "      <td>TEBAN GDNS RD</td>\n",
       "      <td>2</td>\n",
       "      <td>83.0</td>\n",
       "      <td>SIMPLIFIED</td>\n",
       "      <td>1987</td>\n",
       "      <td>310000.0</td>\n",
       "      <td>70</td>\n",
       "      <td>9556 days</td>\n",
       "    </tr>\n",
       "    <tr>\n",
       "      <th>22993</th>\n",
       "      <td>2018-03-01</td>\n",
       "      <td>BISHAN</td>\n",
       "      <td>5 ROOM</td>\n",
       "      <td>273B</td>\n",
       "      <td>BISHAN ST 24</td>\n",
       "      <td>1</td>\n",
       "      <td>120.0</td>\n",
       "      <td>DBSS</td>\n",
       "      <td>2011</td>\n",
       "      <td>985000.0</td>\n",
       "      <td>92</td>\n",
       "      <td>10286 days</td>\n",
       "    </tr>\n",
       "  </tbody>\n",
       "</table>\n",
       "</div>"
      ],
      "text/plain": [
       "            month           town flat_type block     street_name  \\\n",
       "101137 2002-10-01  CHOA CHU KANG    3 ROOM   111  TECK WHYE LANE   \n",
       "74252  2002-01-01        HOUGANG    3 ROOM   617   HOUGANG AVE 8   \n",
       "130495 2003-10-01        HOUGANG    4 ROOM    19   HOUGANG AVE 3   \n",
       "20971  2016-03-01    JURONG EAST    4 ROOM    52   TEBAN GDNS RD   \n",
       "22993  2018-03-01         BISHAN    5 ROOM  273B    BISHAN ST 24   \n",
       "\n",
       "        storey_range  floor_area_sqm      flat_model  lease_commence_date  \\\n",
       "101137             1            73.0         MODEL A                 1989   \n",
       "74252              1            64.0      SIMPLIFIED                 1986   \n",
       "130495             0            98.0  NEW GENERATION                 1978   \n",
       "20971              2            83.0      SIMPLIFIED                 1987   \n",
       "22993              1           120.0            DBSS                 2011   \n",
       "\n",
       "        resale_price  remaining_lease     tx_day  \n",
       "101137      132000.0               86  4656 days  \n",
       "74252       131800.0               83  4383 days  \n",
       "130495      240000.0               74  5021 days  \n",
       "20971       310000.0               70  9556 days  \n",
       "22993       985000.0               92 10286 days  "
      ]
     },
     "execution_count": 28,
     "metadata": {},
     "output_type": "execute_result"
    }
   ],
   "source": [
    "transactions['month'] = pd.to_datetime(transactions['month'])\n",
    "firstdate = transactions.iloc[0,0]\n",
    "transactions['tx_day'] = transactions['month'] - firstdate\n",
    "transactions.sample(5)"
   ]
  },
  {
   "cell_type": "code",
   "execution_count": 29,
   "metadata": {},
   "outputs": [
    {
     "data": {
      "text/html": [
       "<div>\n",
       "<style scoped>\n",
       "    .dataframe tbody tr th:only-of-type {\n",
       "        vertical-align: middle;\n",
       "    }\n",
       "\n",
       "    .dataframe tbody tr th {\n",
       "        vertical-align: top;\n",
       "    }\n",
       "\n",
       "    .dataframe thead th {\n",
       "        text-align: right;\n",
       "    }\n",
       "</style>\n",
       "<table border=\"1\" class=\"dataframe\">\n",
       "  <thead>\n",
       "    <tr style=\"text-align: right;\">\n",
       "      <th></th>\n",
       "      <th>month</th>\n",
       "      <th>town</th>\n",
       "      <th>flat_type</th>\n",
       "      <th>block</th>\n",
       "      <th>street_name</th>\n",
       "      <th>storey_range</th>\n",
       "      <th>floor_area_sqm</th>\n",
       "      <th>flat_model</th>\n",
       "      <th>lease_commence_date</th>\n",
       "      <th>resale_price</th>\n",
       "      <th>remaining_lease</th>\n",
       "      <th>tx_day</th>\n",
       "    </tr>\n",
       "  </thead>\n",
       "  <tbody>\n",
       "    <tr>\n",
       "      <th>89733</th>\n",
       "      <td>2002-06-01</td>\n",
       "      <td>HOUGANG</td>\n",
       "      <td>3 ROOM</td>\n",
       "      <td>689</td>\n",
       "      <td>HOUGANG ST 61</td>\n",
       "      <td>0</td>\n",
       "      <td>74.0</td>\n",
       "      <td>MODEL A</td>\n",
       "      <td>1987</td>\n",
       "      <td>155000.0</td>\n",
       "      <td>84</td>\n",
       "      <td>4534</td>\n",
       "    </tr>\n",
       "    <tr>\n",
       "      <th>256769</th>\n",
       "      <td>2008-03-01</td>\n",
       "      <td>HOUGANG</td>\n",
       "      <td>5 ROOM</td>\n",
       "      <td>302</td>\n",
       "      <td>HOUGANG AVE 5</td>\n",
       "      <td>0</td>\n",
       "      <td>133.0</td>\n",
       "      <td>MODEL A</td>\n",
       "      <td>1983</td>\n",
       "      <td>346000.0</td>\n",
       "      <td>74</td>\n",
       "      <td>6634</td>\n",
       "    </tr>\n",
       "    <tr>\n",
       "      <th>311920</th>\n",
       "      <td>2010-01-01</td>\n",
       "      <td>WOODLANDS</td>\n",
       "      <td>5 ROOM</td>\n",
       "      <td>881</td>\n",
       "      <td>WOODLANDS ST 82</td>\n",
       "      <td>2</td>\n",
       "      <td>123.0</td>\n",
       "      <td>IMPROVED</td>\n",
       "      <td>1996</td>\n",
       "      <td>348000.0</td>\n",
       "      <td>85</td>\n",
       "      <td>7305</td>\n",
       "    </tr>\n",
       "    <tr>\n",
       "      <th>270118</th>\n",
       "      <td>1999-08-01</td>\n",
       "      <td>GEYLANG</td>\n",
       "      <td>3 ROOM</td>\n",
       "      <td>57</td>\n",
       "      <td>CIRCUIT RD</td>\n",
       "      <td>1</td>\n",
       "      <td>56.0</td>\n",
       "      <td>STANDARD</td>\n",
       "      <td>1969</td>\n",
       "      <td>107000.0</td>\n",
       "      <td>69</td>\n",
       "      <td>3499</td>\n",
       "    </tr>\n",
       "    <tr>\n",
       "      <th>75763</th>\n",
       "      <td>2020-08-01</td>\n",
       "      <td>BUKIT BATOK</td>\n",
       "      <td>4 ROOM</td>\n",
       "      <td>393</td>\n",
       "      <td>BT BATOK WEST AVE 5</td>\n",
       "      <td>1</td>\n",
       "      <td>92.0</td>\n",
       "      <td>MODEL A</td>\n",
       "      <td>2004</td>\n",
       "      <td>408000.0</td>\n",
       "      <td>83</td>\n",
       "      <td>11170</td>\n",
       "    </tr>\n",
       "  </tbody>\n",
       "</table>\n",
       "</div>"
      ],
      "text/plain": [
       "            month         town flat_type block          street_name  \\\n",
       "89733  2002-06-01      HOUGANG    3 ROOM   689        HOUGANG ST 61   \n",
       "256769 2008-03-01      HOUGANG    5 ROOM   302        HOUGANG AVE 5   \n",
       "311920 2010-01-01    WOODLANDS    5 ROOM   881      WOODLANDS ST 82   \n",
       "270118 1999-08-01      GEYLANG    3 ROOM    57           CIRCUIT RD   \n",
       "75763  2020-08-01  BUKIT BATOK    4 ROOM   393  BT BATOK WEST AVE 5   \n",
       "\n",
       "        storey_range  floor_area_sqm flat_model  lease_commence_date  \\\n",
       "89733              0            74.0    MODEL A                 1987   \n",
       "256769             0           133.0    MODEL A                 1983   \n",
       "311920             2           123.0   IMPROVED                 1996   \n",
       "270118             1            56.0   STANDARD                 1969   \n",
       "75763              1            92.0    MODEL A                 2004   \n",
       "\n",
       "        resale_price  remaining_lease  tx_day  \n",
       "89733       155000.0               84    4534  \n",
       "256769      346000.0               74    6634  \n",
       "311920      348000.0               85    7305  \n",
       "270118      107000.0               69    3499  \n",
       "75763       408000.0               83   11170  "
      ]
     },
     "execution_count": 29,
     "metadata": {},
     "output_type": "execute_result"
    }
   ],
   "source": [
    "# We can just go ahead and convert the data type to an integer for easier feeding in to the learning model!\n",
    "transactions['tx_day'] = transactions['tx_day'].dt.days.astype(int)\n",
    "transactions.sample(5)"
   ]
  },
  {
   "cell_type": "markdown",
   "metadata": {},
   "source": [
    "## We're almost at the end of feature engineering, just the address to go. \n",
    "The plan is to combine the block + street name to obtain the full address, and with the full address, obtain a postal code. However there aren't any ready database for us to obtain postal codes from an address, so we're going to have to scrape it from the Singpost website."
   ]
  },
  {
   "cell_type": "code",
   "execution_count": 30,
   "metadata": {},
   "outputs": [],
   "source": [
    "import time\n",
    "import requests\n",
    "from bs4 import BeautifulSoup\n",
    "#import required packages for scraping"
   ]
  },
  {
   "cell_type": "code",
   "execution_count": 31,
   "metadata": {},
   "outputs": [
    {
     "name": "stdout",
     "output_type": "stream",
     "text": [
      "There are 9279 addresses\n"
     ]
    },
    {
     "data": {
      "text/html": [
       "<div>\n",
       "<style scoped>\n",
       "    .dataframe tbody tr th:only-of-type {\n",
       "        vertical-align: middle;\n",
       "    }\n",
       "\n",
       "    .dataframe tbody tr th {\n",
       "        vertical-align: top;\n",
       "    }\n",
       "\n",
       "    .dataframe thead th {\n",
       "        text-align: right;\n",
       "    }\n",
       "</style>\n",
       "<table border=\"1\" class=\"dataframe\">\n",
       "  <thead>\n",
       "    <tr style=\"text-align: right;\">\n",
       "      <th></th>\n",
       "      <th>month</th>\n",
       "      <th>town</th>\n",
       "      <th>flat_type</th>\n",
       "      <th>block</th>\n",
       "      <th>street_name</th>\n",
       "      <th>storey_range</th>\n",
       "      <th>floor_area_sqm</th>\n",
       "      <th>flat_model</th>\n",
       "      <th>lease_commence_date</th>\n",
       "      <th>resale_price</th>\n",
       "      <th>remaining_lease</th>\n",
       "      <th>tx_day</th>\n",
       "      <th>full_address</th>\n",
       "    </tr>\n",
       "  </thead>\n",
       "  <tbody>\n",
       "    <tr>\n",
       "      <th>207107</th>\n",
       "      <td>2006-05-01</td>\n",
       "      <td>JURONG WEST</td>\n",
       "      <td>3 ROOM</td>\n",
       "      <td>516</td>\n",
       "      <td>JURONG WEST ST 52</td>\n",
       "      <td>0</td>\n",
       "      <td>74.0</td>\n",
       "      <td>MODEL A</td>\n",
       "      <td>1984</td>\n",
       "      <td>163000.0</td>\n",
       "      <td>77</td>\n",
       "      <td>5964</td>\n",
       "      <td>516 JURONG WEST ST 52</td>\n",
       "    </tr>\n",
       "    <tr>\n",
       "      <th>22779</th>\n",
       "      <td>2013-03-01</td>\n",
       "      <td>BUKIT MERAH</td>\n",
       "      <td>3 ROOM</td>\n",
       "      <td>63</td>\n",
       "      <td>TELOK BLANGAH HTS</td>\n",
       "      <td>0</td>\n",
       "      <td>73.0</td>\n",
       "      <td>NEW GENERATION</td>\n",
       "      <td>1976</td>\n",
       "      <td>438000.0</td>\n",
       "      <td>62</td>\n",
       "      <td>8460</td>\n",
       "      <td>63 TELOK BLANGAH HTS</td>\n",
       "    </tr>\n",
       "    <tr>\n",
       "      <th>75851</th>\n",
       "      <td>1994-08-01</td>\n",
       "      <td>MARINE PARADE</td>\n",
       "      <td>3 ROOM</td>\n",
       "      <td>33</td>\n",
       "      <td>MARINE CRES</td>\n",
       "      <td>2</td>\n",
       "      <td>65.0</td>\n",
       "      <td>IMPROVED</td>\n",
       "      <td>1975</td>\n",
       "      <td>114000.0</td>\n",
       "      <td>80</td>\n",
       "      <td>1673</td>\n",
       "      <td>33 MARINE CRES</td>\n",
       "    </tr>\n",
       "    <tr>\n",
       "      <th>258787</th>\n",
       "      <td>2008-04-01</td>\n",
       "      <td>CHOA CHU KANG</td>\n",
       "      <td>EXECUTIVE</td>\n",
       "      <td>559</td>\n",
       "      <td>CHOA CHU KANG NTH 6</td>\n",
       "      <td>1</td>\n",
       "      <td>146.0</td>\n",
       "      <td>APARTMENT</td>\n",
       "      <td>1996</td>\n",
       "      <td>428000.0</td>\n",
       "      <td>87</td>\n",
       "      <td>6665</td>\n",
       "      <td>559 CHOA CHU KANG NTH 6</td>\n",
       "    </tr>\n",
       "    <tr>\n",
       "      <th>23358</th>\n",
       "      <td>2013-03-01</td>\n",
       "      <td>QUEENSTOWN</td>\n",
       "      <td>4 ROOM</td>\n",
       "      <td>22</td>\n",
       "      <td>QUEEN'S CL</td>\n",
       "      <td>2</td>\n",
       "      <td>106.0</td>\n",
       "      <td>MODEL A</td>\n",
       "      <td>1996</td>\n",
       "      <td>645000.0</td>\n",
       "      <td>82</td>\n",
       "      <td>8460</td>\n",
       "      <td>22 QUEEN'S CL</td>\n",
       "    </tr>\n",
       "  </tbody>\n",
       "</table>\n",
       "</div>"
      ],
      "text/plain": [
       "            month           town  flat_type block          street_name  \\\n",
       "207107 2006-05-01    JURONG WEST     3 ROOM   516    JURONG WEST ST 52   \n",
       "22779  2013-03-01    BUKIT MERAH     3 ROOM    63    TELOK BLANGAH HTS   \n",
       "75851  1994-08-01  MARINE PARADE     3 ROOM    33          MARINE CRES   \n",
       "258787 2008-04-01  CHOA CHU KANG  EXECUTIVE   559  CHOA CHU KANG NTH 6   \n",
       "23358  2013-03-01     QUEENSTOWN     4 ROOM    22           QUEEN'S CL   \n",
       "\n",
       "        storey_range  floor_area_sqm      flat_model  lease_commence_date  \\\n",
       "207107             0            74.0         MODEL A                 1984   \n",
       "22779              0            73.0  NEW GENERATION                 1976   \n",
       "75851              2            65.0        IMPROVED                 1975   \n",
       "258787             1           146.0       APARTMENT                 1996   \n",
       "23358              2           106.0         MODEL A                 1996   \n",
       "\n",
       "        resale_price  remaining_lease  tx_day             full_address  \n",
       "207107      163000.0               77    5964    516 JURONG WEST ST 52  \n",
       "22779       438000.0               62    8460     63 TELOK BLANGAH HTS  \n",
       "75851       114000.0               80    1673           33 MARINE CRES  \n",
       "258787      428000.0               87    6665  559 CHOA CHU KANG NTH 6  \n",
       "23358       645000.0               82    8460            22 QUEEN'S CL  "
      ]
     },
     "execution_count": 31,
     "metadata": {},
     "output_type": "execute_result"
    }
   ],
   "source": [
    "transactions['full_address'] = transactions['block'] + ' ' + transactions['street_name']\n",
    "all_addresses = transactions['full_address'].unique()\n",
    "print('There are {} addresses'.format(len(all_addresses)))\n",
    "transactions.sample(5)"
   ]
  },
  {
   "cell_type": "markdown",
   "metadata": {},
   "source": [
    "Looks pretty good! We have 9279 addresses to scrape from the singpost website, should be the most hits they get in a day. HAHA."
   ]
  },
  {
   "cell_type": "code",
   "execution_count": 32,
   "metadata": {},
   "outputs": [],
   "source": [
    "# Here's the function I used to obtain the postal codes from the HDB addresses in this dataset.\n",
    "def address_to_Pcode(building, address):\n",
    "    '''\n",
    "    Uses requests and beautifulsoup to post an address to singpost website to obtain the postal code of said address.\n",
    "    '''\n",
    "    url = \"https://www.singpost.com/find-postal-code\"\n",
    "    headers = {'user-agent': 'Mozilla/5.0 (Macintosh; Intel Mac OS X 10_15_7) AppleWebKit/537.36 (KHTML, like Gecko) Chrome/86.0.4240.75 Safari/537.36'}\n",
    "    data = {'building': building,\n",
    "            'street_name': address,\n",
    "            'op': 'Find',\n",
    "           }\n",
    "    r = requests.post(url, data = data, headers = headers)\n",
    "    if r.status_code != 200:\n",
    "        print('Request unsuccessful')\n",
    "        return building+address\n",
    "    else:\n",
    "        soup = BeautifulSoup(r.text,'html.parser')\n",
    "        datatable = soup.find(id=\"datatable-1\")\n",
    "        if datatable:\n",
    "            postal_code = datatable.td.find_all('p')[1].get_text()\n",
    "            return postal_code\n",
    "        else:\n",
    "            return 'Address not found.'\n",
    "\n",
    "def get_postal_codes(file, all_addresses,n):\n",
    "    '''\n",
    "    file: dictionary containing obtained addresses and postal codes\n",
    "    all_addresses: list of unique addresses/block numbers\n",
    "    n: number of codes to retrieve per run\n",
    "    returns dictionary of addresses & list of failed addresses in a tuple\n",
    "    '''\n",
    "    if type(file) != dict:\n",
    "        raise TypeError('file should be a dictionary.')\n",
    "    postal_code_dict = file\n",
    "    failed_addresses = []\n",
    "    count = 0\n",
    "    for add in all_addresses:\n",
    "        if count >= n:\n",
    "            break\n",
    "        if add not in postal_code_dict:\n",
    "            block, address = add.split(maxsplit = 1)\n",
    "            postal_code = address_to_Pcode(block, address)\n",
    "            if len(postal_code)!=6:\n",
    "                print('Address failed')\n",
    "                postal_code_dict[add] = postal_code # adds \n",
    "                failed_addresses.append(add)\n",
    "            else:\n",
    "                print(add,'successful, adding to dictionary... count is:',count)\n",
    "                postal_code_dict[add] = postal_code\n",
    "                count += 1\n",
    "            time.sleep(1) # be sure to let your function sleep for a bit, in case the server bans you!\n",
    "        else: continue\n",
    "    return postal_code_dict, failed_addresses"
   ]
  },
  {
   "cell_type": "markdown",
   "metadata": {},
   "source": [
    "# I changed this to a markdown so I don't run this code again, but you can if you want to scrape the postal codes yourself.\n",
    "```python\n",
    "postal_code_dict, cur_failed_addresses = get_postal_codes(postal_code_dict,all_addresses,len(all_addresses))\n",
    "failed_addresses.extend(cur_failed_addresses)\n",
    "```\n",
    "I saved the address/postalcode dictionary so I won't have to go through the hassle of scraping the website, just in case if I need it again."
   ]
  },
  {
   "cell_type": "code",
   "execution_count": 33,
   "metadata": {},
   "outputs": [],
   "source": [
    "def pickleRick(file,file_name):\n",
    "    import pickle\n",
    "    outfile = open(file_name,'wb')\n",
    "    pickle.dump(file,outfile)\n",
    "    outfile.close()\n",
    "\n",
    "def unpickleRick(file_name):\n",
    "    import pickle\n",
    "    infile = open(file_name, 'rb')\n",
    "    file = pickle.load(infile)\n",
    "    infile.close()\n",
    "    return file\n",
    "\n",
    "#Don't mind the Rick & Morty references!"
   ]
  },
  {
   "cell_type": "code",
   "execution_count": 34,
   "metadata": {},
   "outputs": [],
   "source": [
    "postal_code_dict = unpickleRick('postal_code.pickle')"
   ]
  },
  {
   "cell_type": "code",
   "execution_count": 35,
   "metadata": {},
   "outputs": [
    {
     "data": {
      "text/html": [
       "<div>\n",
       "<style scoped>\n",
       "    .dataframe tbody tr th:only-of-type {\n",
       "        vertical-align: middle;\n",
       "    }\n",
       "\n",
       "    .dataframe tbody tr th {\n",
       "        vertical-align: top;\n",
       "    }\n",
       "\n",
       "    .dataframe thead th {\n",
       "        text-align: right;\n",
       "    }\n",
       "</style>\n",
       "<table border=\"1\" class=\"dataframe\">\n",
       "  <thead>\n",
       "    <tr style=\"text-align: right;\">\n",
       "      <th></th>\n",
       "      <th>month</th>\n",
       "      <th>town</th>\n",
       "      <th>flat_type</th>\n",
       "      <th>block</th>\n",
       "      <th>street_name</th>\n",
       "      <th>storey_range</th>\n",
       "      <th>floor_area_sqm</th>\n",
       "      <th>flat_model</th>\n",
       "      <th>lease_commence_date</th>\n",
       "      <th>resale_price</th>\n",
       "      <th>remaining_lease</th>\n",
       "      <th>tx_day</th>\n",
       "      <th>full_address</th>\n",
       "      <th>postalcode</th>\n",
       "    </tr>\n",
       "  </thead>\n",
       "  <tbody>\n",
       "    <tr>\n",
       "      <th>44375</th>\n",
       "      <td>2001-04-01</td>\n",
       "      <td>BUKIT MERAH</td>\n",
       "      <td>4 ROOM</td>\n",
       "      <td>105</td>\n",
       "      <td>BT PURMEI RD</td>\n",
       "      <td>0</td>\n",
       "      <td>93.0</td>\n",
       "      <td>NEW GENERATION</td>\n",
       "      <td>1983</td>\n",
       "      <td>232500.0</td>\n",
       "      <td>81</td>\n",
       "      <td>4108</td>\n",
       "      <td>105 BT PURMEI RD</td>\n",
       "      <td>090105</td>\n",
       "    </tr>\n",
       "    <tr>\n",
       "      <th>33647</th>\n",
       "      <td>2013-10-01</td>\n",
       "      <td>TOA PAYOH</td>\n",
       "      <td>4 ROOM</td>\n",
       "      <td>143</td>\n",
       "      <td>LOR 2 TOA PAYOH</td>\n",
       "      <td>3</td>\n",
       "      <td>90.0</td>\n",
       "      <td>MODEL A</td>\n",
       "      <td>2002</td>\n",
       "      <td>623000.0</td>\n",
       "      <td>88</td>\n",
       "      <td>8674</td>\n",
       "      <td>143 LOR 2 TOA PAYOH</td>\n",
       "      <td>310143</td>\n",
       "    </tr>\n",
       "    <tr>\n",
       "      <th>141051</th>\n",
       "      <td>2004-02-01</td>\n",
       "      <td>BISHAN</td>\n",
       "      <td>5 ROOM</td>\n",
       "      <td>288</td>\n",
       "      <td>BISHAN ST 24</td>\n",
       "      <td>3</td>\n",
       "      <td>123.0</td>\n",
       "      <td>PREMIUM APARTMENT</td>\n",
       "      <td>1998</td>\n",
       "      <td>460000.0</td>\n",
       "      <td>93</td>\n",
       "      <td>5144</td>\n",
       "      <td>288 BISHAN ST 24</td>\n",
       "      <td>570288</td>\n",
       "    </tr>\n",
       "    <tr>\n",
       "      <th>270107</th>\n",
       "      <td>1999-08-01</td>\n",
       "      <td>GEYLANG</td>\n",
       "      <td>3 ROOM</td>\n",
       "      <td>83</td>\n",
       "      <td>MACPHERSON LANE</td>\n",
       "      <td>0</td>\n",
       "      <td>64.0</td>\n",
       "      <td>STANDARD</td>\n",
       "      <td>1968</td>\n",
       "      <td>108000.0</td>\n",
       "      <td>68</td>\n",
       "      <td>3499</td>\n",
       "      <td>83 MACPHERSON LANE</td>\n",
       "      <td>360083</td>\n",
       "    </tr>\n",
       "    <tr>\n",
       "      <th>166778</th>\n",
       "      <td>1997-08-01</td>\n",
       "      <td>HOUGANG</td>\n",
       "      <td>3 ROOM</td>\n",
       "      <td>642</td>\n",
       "      <td>HOUGANG AVE 8</td>\n",
       "      <td>0</td>\n",
       "      <td>69.0</td>\n",
       "      <td>IMPROVED</td>\n",
       "      <td>1987</td>\n",
       "      <td>195000.0</td>\n",
       "      <td>89</td>\n",
       "      <td>2769</td>\n",
       "      <td>642 HOUGANG AVE 8</td>\n",
       "      <td>530642</td>\n",
       "    </tr>\n",
       "  </tbody>\n",
       "</table>\n",
       "</div>"
      ],
      "text/plain": [
       "            month         town flat_type block      street_name  storey_range  \\\n",
       "44375  2001-04-01  BUKIT MERAH    4 ROOM   105     BT PURMEI RD             0   \n",
       "33647  2013-10-01    TOA PAYOH    4 ROOM   143  LOR 2 TOA PAYOH             3   \n",
       "141051 2004-02-01       BISHAN    5 ROOM   288     BISHAN ST 24             3   \n",
       "270107 1999-08-01      GEYLANG    3 ROOM    83  MACPHERSON LANE             0   \n",
       "166778 1997-08-01      HOUGANG    3 ROOM   642    HOUGANG AVE 8             0   \n",
       "\n",
       "        floor_area_sqm         flat_model  lease_commence_date  resale_price  \\\n",
       "44375             93.0     NEW GENERATION                 1983      232500.0   \n",
       "33647             90.0            MODEL A                 2002      623000.0   \n",
       "141051           123.0  PREMIUM APARTMENT                 1998      460000.0   \n",
       "270107            64.0           STANDARD                 1968      108000.0   \n",
       "166778            69.0           IMPROVED                 1987      195000.0   \n",
       "\n",
       "        remaining_lease  tx_day         full_address postalcode  \n",
       "44375                81    4108     105 BT PURMEI RD     090105  \n",
       "33647                88    8674  143 LOR 2 TOA PAYOH     310143  \n",
       "141051               93    5144     288 BISHAN ST 24     570288  \n",
       "270107               68    3499   83 MACPHERSON LANE     360083  \n",
       "166778               89    2769    642 HOUGANG AVE 8     530642  "
      ]
     },
     "execution_count": 35,
     "metadata": {},
     "output_type": "execute_result"
    }
   ],
   "source": [
    "# time to map our addresses to postal codes!\n",
    "transactions['postalcode'] = transactions['full_address'].map(postal_code_dict)\n",
    "transactions.sample(5)"
   ]
  },
  {
   "cell_type": "code",
   "execution_count": 36,
   "metadata": {},
   "outputs": [],
   "source": [
    "#clean up some of the mess due to my trying of different methods when creating my postalcode/address dictionary\n",
    "pcs = transactions.postalcode.unique()\n",
    "fails = []\n",
    "for pc in pcs:\n",
    "    try: int(pc)\n",
    "    except: fails.append(pc)\n",
    "faildict = {add:np.nan for add in fails}\n",
    "transactions.replace({\"postalcode\":faildict},inplace=True)"
   ]
  },
  {
   "cell_type": "code",
   "execution_count": 37,
   "metadata": {},
   "outputs": [
    {
     "data": {
      "text/plain": [
       "28851"
      ]
     },
     "execution_count": 37,
     "metadata": {},
     "output_type": "execute_result"
    }
   ],
   "source": [
    "transactions['postalcode'].isna().sum()"
   ]
  },
  {
   "cell_type": "markdown",
   "metadata": {},
   "source": [
    "Some missing data, possible reasons are that address no longer exists because of a change in road names, my mistake in encoding the address when trying out my webscraping etc. Luckily, we have a huge sample size, we can afford to lose these samples (~3%) without too much hurt! Until I have time to go fix the failed addresses one day!"
   ]
  },
  {
   "cell_type": "code",
   "execution_count": 38,
   "metadata": {},
   "outputs": [],
   "source": [
    "transactions = transactions.dropna()"
   ]
  },
  {
   "cell_type": "code",
   "execution_count": 39,
   "metadata": {},
   "outputs": [
    {
     "data": {
      "text/plain": [
       "<AxesSubplot:>"
      ]
     },
     "execution_count": 39,
     "metadata": {},
     "output_type": "execute_result"
    },
    {
     "data": {
      "image/png": "[encoded data removed]",
      "text/plain": [
       "<Figure size 432x288 with 1 Axes>"
      ]
     },
     "metadata": {
      "needs_background": "light"
     },
     "output_type": "display_data"
    }
   ],
   "source": [
    "transactions['postalcode'].hist()"
   ]
  },
  {
   "cell_type": "markdown",
   "metadata": {},
   "source": [
    "### Sanity check to see if postal code distribution makes sense, and I think it does; the central districts have less flats, hence less transactions recorded"
   ]
  },
  {
   "cell_type": "code",
   "execution_count": 40,
   "metadata": {},
   "outputs": [
    {
     "data": {
      "text/plain": [
       "month                  0\n",
       "town                   0\n",
       "flat_type              0\n",
       "block                  0\n",
       "street_name            0\n",
       "storey_range           0\n",
       "floor_area_sqm         0\n",
       "flat_model             0\n",
       "lease_commence_date    0\n",
       "resale_price           0\n",
       "remaining_lease        0\n",
       "tx_day                 0\n",
       "full_address           0\n",
       "postalcode             0\n",
       "dtype: int64"
      ]
     },
     "execution_count": 40,
     "metadata": {},
     "output_type": "execute_result"
    }
   ],
   "source": [
    "transactions.isna().sum()"
   ]
  },
  {
   "cell_type": "markdown",
   "metadata": {},
   "source": [
    "## Here we have it, a clean dataset: cleaned and transformed where necessary, ready to be fed to your learner! This really was made way easier, because the dataset was very very clean to begin with, so kudos to our public service!\n",
    "\n",
    "```python\n",
    "pickleRick(transactions,'transactions.pickle')\n",
    "#saving the transactions dataframe so you don't have to run the whole cleaning and transformation the next time you use it!\n",
    "```"
   ]
  },
  {
   "cell_type": "code",
   "execution_count": 41,
   "metadata": {},
   "outputs": [
    {
     "data": {
      "text/plain": [
       "month                  datetime64[ns]\n",
       "town                           object\n",
       "flat_type                      object\n",
       "block                          object\n",
       "street_name                    object\n",
       "storey_range                    int64\n",
       "floor_area_sqm                float64\n",
       "flat_model                     object\n",
       "lease_commence_date             int64\n",
       "resale_price                  float64\n",
       "remaining_lease                 int64\n",
       "tx_day                          int64\n",
       "full_address                   object\n",
       "postalcode                    float64\n",
       "dtype: object"
      ]
     },
     "execution_count": 41,
     "metadata": {},
     "output_type": "execute_result"
    }
   ],
   "source": [
    "transactions.dtypes"
   ]
  },
  {
   "cell_type": "markdown",
   "metadata": {},
   "source": [
    "## Time to choose the required features!"
   ]
  },
  {
   "cell_type": "code",
   "execution_count": 42,
   "metadata": {},
   "outputs": [],
   "source": [
    "transactions['postalcode']=transactions['postalcode'].astype(str) #we are using postal code as a qualitative (nominal) data, instead of quantitative\n",
    "features = ['town', #self explanatory\n",
    "            'flat_type', #1 room or 3 room flat\n",
    "            'storey_range', # which level the flat is at\n",
    "            'floor_area_sqm', # how big the flat is\n",
    "            'flat_model', # HDB flat model, affects the design of the flat\n",
    "            'lease_commence_date', #year the flat was built in\n",
    "            'remaining_lease', #remaining lease on the flat when it was transacted\n",
    "            'tx_day', #date transacted in days from Jan 1990\n",
    "            'postalcode' #self explanatory, represents the desirability of location in it's price\n",
    "           ]"
   ]
  },
  {
   "cell_type": "code",
   "execution_count": 43,
   "metadata": {},
   "outputs": [],
   "source": [
    "X = transactions[features]\n",
    "y = transactions['resale_price']"
   ]
  },
  {
   "cell_type": "code",
   "execution_count": 44,
   "metadata": {},
   "outputs": [
    {
     "data": {
      "text/plain": [
       "town                    object\n",
       "flat_type               object\n",
       "storey_range             int64\n",
       "floor_area_sqm         float64\n",
       "flat_model              object\n",
       "lease_commence_date      int64\n",
       "remaining_lease          int64\n",
       "tx_day                   int64\n",
       "postalcode              object\n",
       "dtype: object"
      ]
     },
     "execution_count": 44,
     "metadata": {},
     "output_type": "execute_result"
    }
   ],
   "source": [
    "from sklearn.model_selection import train_test_split\n",
    "X_train, X_test, y_train, y_test = train_test_split(X,y)\n",
    "X_train.dtypes #just a final check"
   ]
  },
  {
   "cell_type": "code",
   "execution_count": 45,
   "metadata": {},
   "outputs": [
    {
     "data": {
      "text/plain": [
       "(598297, 9)"
      ]
     },
     "execution_count": 45,
     "metadata": {},
     "output_type": "execute_result"
    }
   ],
   "source": [
    "X_train.shape #training on about 600k samples"
   ]
  },
  {
   "cell_type": "code",
   "execution_count": 46,
   "metadata": {},
   "outputs": [],
   "source": [
    "from sklearn.preprocessing import OneHotEncoder, MinMaxScaler\n",
    "from sklearn.compose import make_column_transformer\n",
    "from sklearn.pipeline import make_pipeline\n",
    "from sklearn.linear_model import Ridge\n",
    "from sklearn.model_selection import cross_val_score"
   ]
  },
  {
   "cell_type": "markdown",
   "metadata": {},
   "source": [
    "### Using column transformer to select preprocessing for each column, makes preprocessing your features much simpler!\n",
    "Categorical data will be OneHotEncoded, meaning a separate column will be created for every unique value in the categorical feature and the presence of a particular value will be indicated by a binary representation, 1 or 0.\n",
    "\n",
    "Min/Max scaling is necessary here for our quantitative data as they are of different ranges: floor area is of order (of magnitude) $10^2$, lease_commence_date is of order $10^4$, tx_days: $10^5$, remaining lease: $10^2$, if not scaled, these features will have a disproportionate effect on our regression model."
   ]
  },
  {
   "cell_type": "code",
   "execution_count": 47,
   "metadata": {},
   "outputs": [],
   "source": [
    "column_trans = make_column_transformer((OneHotEncoder(handle_unknown='ignore'),['flat_type', 'flat_model','town', 'postalcode']),\n",
    "                                       (MinMaxScaler(),['floor_area_sqm', 'lease_commence_date','storey_range','tx_day','remaining_lease']),\n",
    "                                      remainder = 'passthrough')"
   ]
  },
  {
   "cell_type": "markdown",
   "metadata": {},
   "source": [
    "### Ridge regression was chosen arbitrarily as a first model to be tested. Maybe more on different types of regularization next time!"
   ]
  },
  {
   "cell_type": "code",
   "execution_count": 48,
   "metadata": {},
   "outputs": [
    {
     "data": {
      "text/plain": [
       "0.8393352551310389"
      ]
     },
     "execution_count": 48,
     "metadata": {},
     "output_type": "execute_result"
    }
   ],
   "source": [
    "pipe = make_pipeline(column_trans,Ridge())\n",
    "cross_val_score(pipe, X_train,y = y_train, cv = 5).mean()"
   ]
  },
  {
   "cell_type": "code",
   "execution_count": 49,
   "metadata": {},
   "outputs": [
    {
     "name": "stdout",
     "output_type": "stream",
     "text": [
      "R2 value is:  0.839835120694272\n",
      "Median Absolute Error is:  35695.34185631183\n",
      "Root Mean Squared Error is:  59116.101606196215\n"
     ]
    }
   ],
   "source": [
    "from sklearn.metrics import median_absolute_error, mean_squared_error\n",
    "pipe.fit(X_train, y_train)\n",
    "score = pipe.score(X_test,y_test)\n",
    "pred = pipe.predict(X_test)\n",
    "MAE = median_absolute_error(y_test, pred)\n",
    "MSE = mean_squared_error(y_test,pred)\n",
    "RMSE = MSE**0.5\n",
    "\n",
    "print('R2 value is: ',score)\n",
    "print('Median Absolute Error is: ', MAE)\n",
    "print('Root Mean Squared Error is: ', RMSE)"
   ]
  },
  {
   "cell_type": "markdown",
   "metadata": {},
   "source": [
    "### How do we interpret the scoring metric?\n",
    "\n",
    "**R2 value**: Represents the goodness of fit, meaning **83.8%** of the variance in resale price can be explained by our regression model\n",
    "\n",
    "**Median Absolute Error**: Quite literal, it is the median value of all the errors in the predicted test set, meaning the median sample predicted value is **\\$35608** away from its actual transaction price\n",
    "\n",
    "**Root Mean Squared Error**: Square root of the sum of all errors squared is **\\$59065**\n",
    "\n",
    "Maybe we can squeeze a little more performance by tuning the hyperparameters?"
   ]
  },
  {
   "cell_type": "code",
   "execution_count": 51,
   "metadata": {},
   "outputs": [],
   "source": [
    "from sklearn.model_selection import GridSearchCV\n",
    "a = np.logspace(-4,0,5)\n",
    "param_grid = {\n",
    "        'ridge__alpha': a,\n",
    "}\n",
    "grid = GridSearchCV(pipe, param_grid, cv=5, return_train_score=False)"
   ]
  },
  {
   "cell_type": "code",
   "execution_count": 52,
   "metadata": {},
   "outputs": [
    {
     "data": {
      "text/plain": [
       "GridSearchCV(cv=5,\n",
       "             estimator=Pipeline(steps=[('columntransformer',\n",
       "                                        ColumnTransformer(remainder='passthrough',\n",
       "                                                          transformers=[('onehotencoder',\n",
       "                                                                         OneHotEncoder(handle_unknown='ignore'),\n",
       "                                                                         ['flat_type',\n",
       "                                                                          'flat_model',\n",
       "                                                                          'town',\n",
       "                                                                          'postalcode']),\n",
       "                                                                        ('minmaxscaler',\n",
       "                                                                         MinMaxScaler(),\n",
       "                                                                         ['floor_area_sqm',\n",
       "                                                                          'lease_commence_date',\n",
       "                                                                          'storey_range',\n",
       "                                                                          'tx_day',\n",
       "                                                                          'remaining_lease'])])),\n",
       "                                       ('ridge', Ridge())]),\n",
       "             param_grid={'ridge__alpha': array([1.e-04, 1.e-03, 1.e-02, 1.e-01, 1.e+00])})"
      ]
     },
     "execution_count": 52,
     "metadata": {},
     "output_type": "execute_result"
    }
   ],
   "source": [
    "grid.fit(X_train,y_train)"
   ]
  },
  {
   "cell_type": "code",
   "execution_count": 53,
   "metadata": {},
   "outputs": [
    {
     "name": "stdout",
     "output_type": "stream",
     "text": [
      "Best score:  0.8394484728749194\n",
      "Best parameter:  {'ridge__alpha': 0.1}\n"
     ]
    }
   ],
   "source": [
    "print('Best score: ',grid.best_score_)\n",
    "print('Best parameter: ',grid.best_params_)"
   ]
  },
  {
   "cell_type": "code",
   "execution_count": 54,
   "metadata": {},
   "outputs": [
    {
     "data": {
      "text/plain": [
       "{'mean_fit_time': array([1.73369169, 1.74409423, 1.67041512, 1.68611798, 1.65473671]),\n",
       " 'std_fit_time': array([0.04222505, 0.05825628, 0.0532609 , 0.01323466, 0.04335799]),\n",
       " 'mean_score_time': array([0.21571207, 0.20829   , 0.20712953, 0.20508223, 0.20838943]),\n",
       " 'std_score_time': array([0.00714536, 0.00654544, 0.00193993, 0.00104484, 0.00327818]),\n",
       " 'param_ridge__alpha': masked_array(data=[0.0001, 0.001, 0.01, 0.1, 1.0],\n",
       "              mask=[False, False, False, False, False],\n",
       "        fill_value='?',\n",
       "             dtype=object),\n",
       " 'params': [{'ridge__alpha': 0.0001},\n",
       "  {'ridge__alpha': 0.001},\n",
       "  {'ridge__alpha': 0.01},\n",
       "  {'ridge__alpha': 0.1},\n",
       "  {'ridge__alpha': 1.0}],\n",
       " 'split0_test_score': array([0.84022929, 0.84009742, 0.84009768, 0.84011447, 0.84022598]),\n",
       " 'split1_test_score': array([0.83989873, 0.83990114, 0.83936924, 0.83999921, 0.83946344]),\n",
       " 'split2_test_score': array([0.83968983, 0.83968861, 0.83969236, 0.839706  , 0.83982616]),\n",
       " 'split3_test_score': array([0.83878392, 0.83878594, 0.8383229 , 0.83880171, 0.83844429]),\n",
       " 'split4_test_score': array([0.83804912, 0.83860947, 0.83861089, 0.83862098, 0.8387164 ]),\n",
       " 'mean_test_score': array([0.83933018, 0.83941652, 0.83921861, 0.83944847, 0.83933526]),\n",
       " 'std_test_score': array([0.00080006, 0.00060357, 0.00066204, 0.00061907, 0.00066747]),\n",
       " 'rank_test_score': array([4, 2, 5, 1, 3], dtype=int32)}"
      ]
     },
     "execution_count": 54,
     "metadata": {},
     "output_type": "execute_result"
    }
   ],
   "source": [
    "grid.cv_results_"
   ]
  },
  {
   "cell_type": "markdown",
   "metadata": {},
   "source": [
    "### It seems like R2 scores are the same with more or less regularisation, it could signify that the data is high in bias (underfitting), due to the lack of features.\n",
    "This is rather understandable as the total number of features passed into the model is 9 (although it is expanded to a 9000+ column sparse matrix after OneHotEncoding). Perhaps a deep neural network could give better performance, given that we have an abundance of samples and a lack of features. This is an idea worth exploring, perhaps for after I finish my online course on deep learning. \n",
    "\n",
    "### Final Words\n",
    "Using some feature engineering and web scraping, we managed to come up with a rather decent linear regression model, it will not give the fair price of a particular flat, but at least it's a nice guide! Feature coefficients (model.coef_) can also give us a good guide on what are the more important features the affect the resale price of a flat. \n",
    "\n",
    "This project has been fun and it is definitely a handy tool to use when shopping for your first HDB flat. This model is currently deployed [here](https://whatsmyhdbprice.herokuapp.com/). I hope this is the first of many fun projects I'll be sharing with you. Your feedback is always welcome; just leave me a message on my github!"
   ]
  },
  {
   "cell_type": "code",
   "execution_count": null,
   "metadata": {},
   "outputs": [],
   "source": []
  }
 ],
 "metadata": {
  "kernelspec": {
   "display_name": "Python 3",
   "language": "python",
   "name": "python3"
  },
  "language_info": {
   "codemirror_mode": {
    "name": "ipython",
    "version": 3
   },
   "file_extension": ".py",
   "mimetype": "text/x-python",
   "name": "python",
   "nbconvert_exporter": "python",
   "pygments_lexer": "ipython3",
   "version": "3.8.6"
  }
 },
 "nbformat": 4,
 "nbformat_minor": 4
}
